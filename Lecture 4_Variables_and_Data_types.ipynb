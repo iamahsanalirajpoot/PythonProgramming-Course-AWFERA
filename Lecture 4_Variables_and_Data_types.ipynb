{
 "cells": [
  {
   "cell_type": "markdown",
   "id": "026c202d",
   "metadata": {},
   "source": [
    "# **Lecture 4: Variables and Data Types**"
   ]
  },
  {
   "cell_type": "markdown",
   "id": "6cf1ce2e",
   "metadata": {},
   "source": [
    "**Author Name :** Ahsan Ali Rajpoot\n",
    "- **Linkedin :** [linkedin.com/in/iamahsanalirajpoot](linkedin.com/in/iamahsanalirajpoot)\n",
    "- **Facebook :** [facebook.com/iamahsanalirajpoot](facebook.com/iamahsanalirajpoot)\n",
    "- **GitHub :** [github.com/iamahsanalirajpoot](github.com/iamahsanalirajpoot)\n",
    "- **Kaggle :** [kaggle.com/ahsanalirajpoot](kaggle.com/ahsanalirajpoot)"
   ]
  },
  {
   "cell_type": "markdown",
   "id": "d4574dbd",
   "metadata": {},
   "source": [
    "## **Variables In Python**"
   ]
  },
  {
   "cell_type": "markdown",
   "id": "42ad9ad6",
   "metadata": {},
   "source": [
    "### **What Are Variables?**\n",
    "- A variable is a container that temporarily stores data during the execution of a program.\n",
    "- The value stored in a variable can change during the program's execution, which is why it is called a \"variable.\"\n"
   ]
  },
  {
   "cell_type": "markdown",
   "id": "6fab1c3d",
   "metadata": {},
   "source": [
    "### **Rules for Naming Variables:**\n",
    "**Key Rules:**\n",
    "- **Start with a Letter or Underscore:** Variable names must begin with a letter (a-z, A-Z) or an underscore (_).\\\n",
    " `Example:` username, _firstname\n",
    "\n",
    "- **Cannot start with a Number:** Variable names cannot begin with a digit.\\\n",
    " `Example:` 1user is invalid, but user1 is valid.\n",
    "\n",
    "- **Use Only Letters, Numbers, and Underscores:** Variable names can only contain letters, numbers, and underscores.\\\n",
    " `Example:` user_name, age1\n",
    "\n",
    "- **Case-Sensitive:** Variable names are case-sensitive.\\\n",
    " `Example:` FirstName and firstname are considered two different variables.\n",
    "\n",
    "- **Avoid Reserved Words:** Do not use Python’s reserved keywords (e.g., print, if, for) as variable names.\\\n",
    " `Example:` print = 10 is invalid because print is a reserved word.\n",
    " \n",
    "- **Meaningful Names:** Use meaningful and descriptive names for variables to improve code readability.\\\n",
    " `Example:` Use student_name instead of sn."
   ]
  },
  {
   "cell_type": "markdown",
   "id": "427d703a",
   "metadata": {},
   "source": [
    "### **Initializing Variables**\n",
    "**Syntax:**\n",
    "To create a variable, you need three things:\n",
    "- **Variable Name:** The name of the variable (e.g., name).\n",
    "- **Assignment Operator:** The equal sign (=) is used to assign a value to the variable.\n",
    "- **Value:** The data you want to store in the variable (e.g., Ahsan).\n",
    "\n",
    "**Example:**"
   ]
  },
  {
   "cell_type": "markdown",
   "id": "75d70c85",
   "metadata": {},
   "source": [
    "Assigning a string value to a variable:"
   ]
  },
  {
   "cell_type": "code",
   "execution_count": 1,
   "id": "c8293178",
   "metadata": {},
   "outputs": [],
   "source": [
    "name = \"Ahsan\"  # -> Here, 'name' is the variable name, and \"Ahsan\" is the value assigned to it"
   ]
  },
  {
   "cell_type": "markdown",
   "id": "834c5a2a",
   "metadata": {},
   "source": [
    "Assigning an integer value to a variable:"
   ]
  },
  {
   "cell_type": "code",
   "execution_count": 2,
   "id": "75872dbd",
   "metadata": {},
   "outputs": [],
   "source": [
    "age = 18  # -> Here, 'age' is the variable name, and \"18\" is the value assigned to it"
   ]
  },
  {
   "cell_type": "markdown",
   "id": "4fd7c8d1",
   "metadata": {},
   "source": [
    "## **Data Types in Python**"
   ]
  },
  {
   "cell_type": "markdown",
   "id": "bc9d1cf9",
   "metadata": {},
   "source": [
    "### **What is Datatype**\n",
    "A **data type** is a classification that specifies the type of data a variable can hold. In Python, the main data types are:\n",
    "\n",
    "1. **Numeric Types**: These include integers `(int)`, floating-point numbers `(float)`, and complex numbers `(complex)`.\n",
    "\n",
    "2. **Text Type**: This includes strings `(str)`.\n",
    "\n",
    "3. **Sequence Types**: These include lists `(list)`, and tuples `(tuple)`.\n",
    "\n",
    "4. **Mapping Type**: This includes dictionaries `(dict)`.\n",
    "\n",
    "5. **Set Types**: These include sets `(set)` and frozensets `(frozenset)`.\n",
    "\n",
    "6. **Boolean Type**: This includes boolean values `(bool)`, which can be either True or False.\n",
    "\n",
    "7. **None Type**: This includes the NoneType, which has a single value, None."
   ]
  },
  {
   "cell_type": "markdown",
   "id": "87aca872",
   "metadata": {},
   "source": [
    "### **1. Numeric Data Types**\n",
    "Numeric data types represent numbers and can be used for mathematical operations."
   ]
  },
  {
   "cell_type": "markdown",
   "id": "599f3800",
   "metadata": {},
   "source": [
    "#### **Integer `(int)`**\n",
    "- Represents whole numbers, both positive and negative.\n",
    "\n",
    "**Example:**"
   ]
  },
  {
   "cell_type": "code",
   "execution_count": 3,
   "id": "8aa64c34",
   "metadata": {},
   "outputs": [
    {
     "name": "stdout",
     "output_type": "stream",
     "text": [
      "<class 'int'>\n",
      "<class 'int'>\n",
      "<class 'int'>\n",
      "<class 'int'>\n"
     ]
    }
   ],
   "source": [
    "age = 18 \n",
    "salary = 189000\n",
    "temperature_celsius = -15\n",
    "bank_balance = -200\n",
    "\n",
    "print(type(age))  # -> type function will return type of data stored in variable\n",
    "print(type(salary)) \n",
    "print(type(temperature_celsius))\n",
    "print(type(bank_balance))"
   ]
  },
  {
   "cell_type": "markdown",
   "id": "35cc1530",
   "metadata": {},
   "source": [
    "#### **float `(float)`**\n",
    "- Represents real numbers with decimal points.\n",
    "\n",
    "**Example:**"
   ]
  },
  {
   "cell_type": "code",
   "execution_count": 4,
   "id": "84ffe3e6",
   "metadata": {},
   "outputs": [
    {
     "name": "stdout",
     "output_type": "stream",
     "text": [
      "<class 'float'>\n",
      "<class 'float'>\n",
      "<class 'float'>\n"
     ]
    }
   ],
   "source": [
    "percentage_marks = 96.98\n",
    "price = 799.99\n",
    "net_profit = -434.67\n",
    "\n",
    "\n",
    "print(type(percentage_marks))\n",
    "print(type(price))\n",
    "print(type(net_profit))"
   ]
  },
  {
   "cell_type": "markdown",
   "id": "e2e3aa28",
   "metadata": {},
   "source": [
    "#### **Complex Numbers `(complex)`**\n",
    "- Represents numbers with a real and imaginary part.\n",
    "\n",
    "**Example:**"
   ]
  },
  {
   "cell_type": "code",
   "execution_count": 5,
   "id": "b0c41510",
   "metadata": {},
   "outputs": [
    {
     "name": "stdout",
     "output_type": "stream",
     "text": [
      "<class 'complex'>\n"
     ]
    }
   ],
   "source": [
    "complex_number = 4 + 6j\n",
    "\n",
    "print(type(complex_number))"
   ]
  },
  {
   "cell_type": "markdown",
   "id": "2d278d2b",
   "metadata": {},
   "source": [
    "### **2. Text Data Type**"
   ]
  },
  {
   "cell_type": "markdown",
   "id": "6427deaa",
   "metadata": {},
   "source": [
    "#### **String `(str)`**\n",
    "- Represents a sequence of characters enclosed in single or double quotes."
   ]
  },
  {
   "cell_type": "code",
   "execution_count": 6,
   "id": "9631cac5",
   "metadata": {},
   "outputs": [
    {
     "name": "stdout",
     "output_type": "stream",
     "text": [
      "<class 'str'>\n",
      "<class 'str'>\n"
     ]
    }
   ],
   "source": [
    "name = \"Ahsan\"\n",
    "full_name = 'Ahsan Ali Rajpoot'\n",
    "\n",
    "print(type(name))\n",
    "print(type(full_name))"
   ]
  },
  {
   "cell_type": "markdown",
   "id": "b83b9a8d",
   "metadata": {},
   "source": [
    "##### **Multiline strings:** \n",
    "\n",
    "Multiline strings can be created using triple quotes"
   ]
  },
  {
   "cell_type": "code",
   "execution_count": 7,
   "id": "34a5b0e5",
   "metadata": {},
   "outputs": [
    {
     "name": "stdout",
     "output_type": "stream",
     "text": [
      "<class 'str'>\n"
     ]
    }
   ],
   "source": [
    "# creating meaningful multiline string\n",
    "\n",
    "multiline_str = \"\"\"\n",
    "Life is full of surprises,\n",
    "Sometimes sunshine, sometimes rain.\n",
    "Code runs perfectly at night,\n",
    "But crashes during the day again.\n",
    "\n",
    "Tea fuels the dreamers,\n",
    "Errors teach us to grow.\n",
    "Keep learning, keep building,\n",
    "That's the developer's flow.\n",
    "\"\"\"\n",
    "\n",
    "print(type(multiline_str))"
   ]
  },
  {
   "cell_type": "markdown",
   "id": "ddf80696",
   "metadata": {},
   "source": [
    "##### **String Operations:**"
   ]
  },
  {
   "cell_type": "markdown",
   "id": "55230f44",
   "metadata": {},
   "source": [
    "**Concatenation:** Joining two or more strings together using the `+` operator."
   ]
  },
  {
   "cell_type": "code",
   "execution_count": 8,
   "id": "909daa59",
   "metadata": {},
   "outputs": [
    {
     "name": "stdout",
     "output_type": "stream",
     "text": [
      "Ahsan Rajpoot\n"
     ]
    }
   ],
   "source": [
    "# string oncatenation\n",
    "first_name = \"Ahsan\"\n",
    "last_name = \"Rajpoot\"\n",
    "full_name = first_name + \" \" + last_name\n",
    "\n",
    "print(full_name)"
   ]
  },
  {
   "cell_type": "markdown",
   "id": "4d17ea20",
   "metadata": {},
   "source": [
    "**Repetition:** Repeating a string multiple times using the `*` operator."
   ]
  },
  {
   "cell_type": "code",
   "execution_count": 9,
   "id": "29ac0643",
   "metadata": {},
   "outputs": [
    {
     "name": "stdout",
     "output_type": "stream",
     "text": [
      "hahahahaha\n"
     ]
    }
   ],
   "source": [
    "# string repetition\n",
    "laugh = \"ha\" * 5\n",
    "print(laugh)"
   ]
  },
  {
   "cell_type": "markdown",
   "id": "9543d9d4",
   "metadata": {},
   "source": [
    "**Indexing:** Accessing individual characters in a string using square brackets `[]` and passing the index of the character."
   ]
  },
  {
   "cell_type": "code",
   "execution_count": 10,
   "id": "e6179ee8",
   "metadata": {},
   "outputs": [
    {
     "name": "stdout",
     "output_type": "stream",
     "text": [
      "A\n",
      "s\n"
     ]
    }
   ],
   "source": [
    "# string indexing\n",
    "name = \"Ahsan Rajpoot\"\n",
    "first_char = name[0]  # -> 'A'\n",
    "third_char = name[2]  # -> 's'\n",
    "\n",
    "print(first_char)\n",
    "print(third_char)"
   ]
  },
  {
   "cell_type": "markdown",
   "id": "fe699a8e",
   "metadata": {},
   "source": [
    "##### **String Slicing:** \n",
    "\n",
    "Extracting a substring from a string using the colon `:` operator within square brackets `[]` and specifying the start and end indices."
   ]
  },
  {
   "cell_type": "code",
   "execution_count": 11,
   "id": "57c9e018",
   "metadata": {},
   "outputs": [
    {
     "name": "stdout",
     "output_type": "stream",
     "text": [
      "Ahsan\n",
      "Ali\n",
      "Rajpoot\n"
     ]
    }
   ],
   "source": [
    "# string slicing\n",
    "name = \"Ahsan Ali Rajpoot\"\n",
    "first_name = name[0:5]  # -> end index is exclusive and start index is inclusive\n",
    "mid_name = name[6:9]\n",
    "lst_name = name[10:18]\n",
    "\n",
    "print(first_name)  # -> 'Ahsan'\n",
    "print(mid_name)    # -> 'Ali'\n",
    "print(lst_name)    # -> 'Rajpoot'"
   ]
  },
  {
   "cell_type": "markdown",
   "id": "c3b501f1",
   "metadata": {},
   "source": [
    "##### **f-string:** \n",
    "\n",
    "A way to format strings in Python by adding expressions/variables inside curly braces `{}` within a string prefixed with `f`."
   ]
  },
  {
   "cell_type": "code",
   "execution_count": 12,
   "id": "4ce07c7d",
   "metadata": {},
   "outputs": [
    {
     "name": "stdout",
     "output_type": "stream",
     "text": [
      "Hello, my name is Ahsan and I am 18 years old.\n"
     ]
    }
   ],
   "source": [
    "name = \"Ahsan\"\n",
    "age = 18\n",
    "\n",
    "# creating f-string\n",
    "greeting = f\"Hello, my name is {name} and I am {age} years old.\"\n",
    "\n",
    "print(greeting)"
   ]
  },
  {
   "cell_type": "markdown",
   "id": "254584d0",
   "metadata": {},
   "source": [
    "### **3. Sequence Types**\n",
    "- Sequence types are ordered collections of items."
   ]
  },
  {
   "cell_type": "markdown",
   "id": "45056ba4",
   "metadata": {},
   "source": [
    "Before Jumping into the Sequence Types, let's understand the following concepts:\n",
    "\n",
    "**What is meant by Ordered?**\n",
    "- Ordered means that the items in the sequence have a defined order, and you can access them using their index.\n",
    "\n",
    "**What is difference between mutable and immutable?**\n",
    "- **Mutable:** Can be changed after creation (e.g., lists).\n",
    "- **Immutable:** Cannot be changed after creation (e.g., tuples, strings)."
   ]
  },
  {
   "cell_type": "markdown",
   "id": "138ca2ae",
   "metadata": {},
   "source": [
    "#### **List**\n",
    "- Represents an ordered, mutable collection of items."
   ]
  },
  {
   "cell_type": "markdown",
   "id": "35c82364",
   "metadata": {},
   "source": [
    "##### **Creating a List:** \n",
    "\n",
    "We use square brackets `[]` to create a list"
   ]
  },
  {
   "cell_type": "code",
   "execution_count": 13,
   "id": "2faa9b2b",
   "metadata": {},
   "outputs": [
    {
     "name": "stdout",
     "output_type": "stream",
     "text": [
      "[1, 3, 5, 6, 7, 8, 9, 10]\n",
      "<class 'list'>\n"
     ]
    }
   ],
   "source": [
    "list_of_numbers = [1, 3, 5, 6, 7, 8, 9, 10]\n",
    "\n",
    "print(list_of_numbers)\n",
    "print(type(list_of_numbers))"
   ]
  },
  {
   "cell_type": "code",
   "execution_count": 14,
   "id": "cb7ac861",
   "metadata": {},
   "outputs": [
    {
     "name": "stdout",
     "output_type": "stream",
     "text": [
      "[1, 'Ahsan', 3.14, True, None]\n"
     ]
    }
   ],
   "source": [
    "# Creating a list with mixed data types\n",
    "mixed_list = [1, \"Ahsan\", 3.14, True, None]\n",
    "\n",
    "print(mixed_list)"
   ]
  },
  {
   "cell_type": "markdown",
   "id": "b50fa1ac",
   "metadata": {},
   "source": [
    "##### **Accessing List Elements:** \n",
    "\n",
    "We can access the list element by their index number, Each element in a list has an index, starting from 0\n"
   ]
  },
  {
   "cell_type": "code",
   "execution_count": 15,
   "id": "44745a34",
   "metadata": {},
   "outputs": [
    {
     "name": "stdout",
     "output_type": "stream",
     "text": [
      "1\n",
      "2\n",
      "5\n",
      "4\n"
     ]
    }
   ],
   "source": [
    "list_of_numbers = [1, 2, 3, 4, 5]\n",
    "\n",
    "print(list_of_numbers[0])  # -> Accessing the first element of the list\n",
    "print(list_of_numbers[1])  # -> Accessing the second element of the list\n",
    "print(list_of_numbers[-1]) # -> Accessing the last element of the list\n",
    "print(list_of_numbers[-2]) # -> Accessing the 2nd last element of the list"
   ]
  },
  {
   "cell_type": "markdown",
   "id": "62d5aa80",
   "metadata": {},
   "source": [
    "##### **Slicing Lists:** \n",
    "\n",
    "We can extract a portion of the list using slicing, which allows us to specify a start and end index.\n",
    "\n"
   ]
  },
  {
   "cell_type": "code",
   "execution_count": 16,
   "id": "b97f584e",
   "metadata": {},
   "outputs": [
    {
     "name": "stdout",
     "output_type": "stream",
     "text": [
      "['Orange', 'Strawbarry', 'Mango']\n"
     ]
    }
   ],
   "source": [
    "items = [\"Apple\", \"Banana\", \"Orange\", \"Strawbarry\", \"Mango\"]\n",
    "\n",
    "print(items[2:5])  # -> Slicing the list to get elements from index 2 to 4 (5 is exclusive)"
   ]
  },
  {
   "cell_type": "markdown",
   "id": "09a0551e",
   "metadata": {},
   "source": [
    "##### **Adding List Element:**"
   ]
  },
  {
   "cell_type": "markdown",
   "id": "1c80eeb4",
   "metadata": {},
   "source": [
    "- Using `append()` (Adds one item to the end)"
   ]
  },
  {
   "cell_type": "code",
   "execution_count": 17,
   "id": "1a3bfc92",
   "metadata": {},
   "outputs": [
    {
     "name": "stdout",
     "output_type": "stream",
     "text": [
      "[10, 20, 30, 40]\n"
     ]
    }
   ],
   "source": [
    "items = [10, 20, 30] \n",
    "items.append(40)  # -> adds 40 at the end\n",
    "print(items)"
   ]
  },
  {
   "cell_type": "markdown",
   "id": "36e7468b",
   "metadata": {},
   "source": [
    "- Using `insert(index, value)` (Adds item at specific position)"
   ]
  },
  {
   "cell_type": "code",
   "execution_count": 18,
   "id": "0591a78a",
   "metadata": {},
   "outputs": [
    {
     "name": "stdout",
     "output_type": "stream",
     "text": [
      "[10, 20, 30, 40]\n"
     ]
    }
   ],
   "source": [
    "items = [10, 30, 40] \n",
    "items.insert(1, 20)  # -> inserts 20 at index 1\n",
    "print(items) "
   ]
  },
  {
   "cell_type": "markdown",
   "id": "fa56acf8",
   "metadata": {},
   "source": [
    "- Using `extend()` (Adds multiple items from another list)"
   ]
  },
  {
   "cell_type": "code",
   "execution_count": 19,
   "id": "5da442ef",
   "metadata": {},
   "outputs": [
    {
     "name": "stdout",
     "output_type": "stream",
     "text": [
      "[2, 4, 6, 8, 10, 12, 14]\n"
     ]
    }
   ],
   "source": [
    "items = [2, 4, 6, 8]\n",
    "items.extend([10, 12, 14])  # -> adds multiple elements\n",
    "\n",
    "print(items)"
   ]
  },
  {
   "cell_type": "markdown",
   "id": "ecd1ef10",
   "metadata": {},
   "source": [
    "- Using `+` operator (Combines two lists (creates new list))"
   ]
  },
  {
   "cell_type": "code",
   "execution_count": 20,
   "id": "1e0e7738",
   "metadata": {},
   "outputs": [
    {
     "name": "stdout",
     "output_type": "stream",
     "text": [
      "[1, 2, 3, 4, 5, 6]\n"
     ]
    }
   ],
   "source": [
    "list_1 = [1, 2, 3] \n",
    "list_2 = [4, 5, 6] \n",
    "combined = list_1 + list_2  # -> new combined list\n",
    "print(combined) \n"
   ]
  },
  {
   "cell_type": "markdown",
   "id": "396ed6f0",
   "metadata": {},
   "source": [
    "- Using `*= n` (Repeat list elements)"
   ]
  },
  {
   "cell_type": "code",
   "execution_count": 21,
   "id": "89daf828",
   "metadata": {},
   "outputs": [
    {
     "name": "stdout",
     "output_type": "stream",
     "text": [
      "['a', 'b', 'c', 'a', 'b', 'c', 'a', 'b', 'c']\n"
     ]
    }
   ],
   "source": [
    "items = ['a', 'b', 'c'] \n",
    "items *= 3  # -> repeats list 3 times\n",
    "print(items)"
   ]
  },
  {
   "cell_type": "markdown",
   "id": "ea9869d9",
   "metadata": {},
   "source": [
    "##### **Removing List Elements:** "
   ]
  },
  {
   "cell_type": "markdown",
   "id": "041fc80f",
   "metadata": {},
   "source": [
    "- Using `pop()` (removes last element)"
   ]
  },
  {
   "cell_type": "code",
   "execution_count": 22,
   "id": "7f231c8a",
   "metadata": {},
   "outputs": [
    {
     "name": "stdout",
     "output_type": "stream",
     "text": [
      "[10, 20, 30, 40]\n"
     ]
    }
   ],
   "source": [
    "items = [10, 20, 30, 40, 50]\n",
    "items.pop()  # -> removes last element\n",
    "print(items)"
   ]
  },
  {
   "cell_type": "markdown",
   "id": "a11d1dc0",
   "metadata": {},
   "source": [
    "- Using `pop(index)` (removes specific index)"
   ]
  },
  {
   "cell_type": "code",
   "execution_count": 23,
   "id": "c4d7b784",
   "metadata": {},
   "outputs": [
    {
     "name": "stdout",
     "output_type": "stream",
     "text": [
      "[10, 30, 40, 50]\n"
     ]
    }
   ],
   "source": [
    "items = [10, 20, 30, 40, 50] \n",
    "items.pop(1)  # -> removes element at index 1 (value = 20)\n",
    "print(items)"
   ]
  },
  {
   "cell_type": "markdown",
   "id": "ae7ce360",
   "metadata": {},
   "source": [
    "- Using `remove(value)` (removes first occurrence)"
   ]
  },
  {
   "cell_type": "code",
   "execution_count": 24,
   "id": "2e98e3b5",
   "metadata": {},
   "outputs": [
    {
     "name": "stdout",
     "output_type": "stream",
     "text": [
      "[10, 30, 20, 50]\n"
     ]
    }
   ],
   "source": [
    "items = [10, 20, 30, 20, 50] \n",
    "items.remove(20)  # -> removes first occurrence of 20\n",
    "print(items) \n"
   ]
  },
  {
   "cell_type": "markdown",
   "id": "f633a522",
   "metadata": {},
   "source": [
    "- Using `del` with index"
   ]
  },
  {
   "cell_type": "code",
   "execution_count": 25,
   "id": "2a67abaf",
   "metadata": {},
   "outputs": [
    {
     "name": "stdout",
     "output_type": "stream",
     "text": [
      "[10, 20, 40, 50]\n"
     ]
    }
   ],
   "source": [
    "items = [10, 20, 30, 40, 50]\n",
    "del items[2]  # -> deletes item at index 2 (value = 30)\n",
    "print(items)"
   ]
  },
  {
   "cell_type": "markdown",
   "id": "33addb4c",
   "metadata": {},
   "source": [
    "- Using `del` with slice"
   ]
  },
  {
   "cell_type": "code",
   "execution_count": 26,
   "id": "39bae489",
   "metadata": {},
   "outputs": [
    {
     "name": "stdout",
     "output_type": "stream",
     "text": [
      "[10, 50]\n"
     ]
    }
   ],
   "source": [
    "items = [10, 20, 30, 40, 50]\n",
    "del items[1:4]  # -> deletes from index 1 to 3 (20, 30, 40)\n",
    "print(items)"
   ]
  },
  {
   "cell_type": "markdown",
   "id": "f9b5704a",
   "metadata": {},
   "source": [
    "- Using `clear()` to empty entire list"
   ]
  },
  {
   "cell_type": "code",
   "execution_count": 27,
   "id": "7627b76b",
   "metadata": {},
   "outputs": [
    {
     "name": "stdout",
     "output_type": "stream",
     "text": [
      "[]\n"
     ]
    }
   ],
   "source": [
    "items = [10, 20, 30, 40, 50] \n",
    "items.clear()  # -> clears all elements\n",
    "print(items)"
   ]
  },
  {
   "cell_type": "markdown",
   "id": "af4da9ce",
   "metadata": {},
   "source": [
    "##### **List Sorting (with `sort()` and `sorted()`):**"
   ]
  },
  {
   "cell_type": "code",
   "execution_count": 28,
   "id": "b597f5e8",
   "metadata": {},
   "outputs": [
    {
     "name": "stdout",
     "output_type": "stream",
     "text": [
      "[1, 2, 3, 4, 5]\n",
      "[5, 4, 3, 2, 1]\n"
     ]
    }
   ],
   "source": [
    "# using sort()\n",
    "numbers = [4, 1, 3, 5, 2]\n",
    "numbers.sort()  # -> modifies in place\n",
    "print(numbers)  # [1, 2, 3, 4, 5]\n",
    "\n",
    "\n",
    "# Descending order\n",
    "numbers.sort(reverse=True)\n",
    "print(numbers)  # [5, 4, 3, 2, 1]"
   ]
  },
  {
   "cell_type": "code",
   "execution_count": 29,
   "id": "ae2e0d5b",
   "metadata": {},
   "outputs": [
    {
     "name": "stdout",
     "output_type": "stream",
     "text": [
      "[1, 2, 3, 4, 5]\n"
     ]
    }
   ],
   "source": [
    "# using sorted()\n",
    "# sorted() returns new list\n",
    "numbers = [4, 1, 3, 5, 2]\n",
    "sorted_list = sorted(numbers)\n",
    "\n",
    "print(sorted_list)"
   ]
  },
  {
   "cell_type": "markdown",
   "id": "3e220dd1",
   "metadata": {},
   "source": [
    "##### **Min & Max in a List:**\n",
    "- **`min()`**: Returns the smallest item in the list.\n",
    "- **`max()`**: Returns the largest item in the list."
   ]
  },
  {
   "cell_type": "code",
   "execution_count": 30,
   "id": "2f93126d",
   "metadata": {},
   "outputs": [
    {
     "name": "stdout",
     "output_type": "stream",
     "text": [
      "3\n",
      "99\n"
     ]
    }
   ],
   "source": [
    "numbers = [10, 45, 3, 99, 24]\n",
    "\n",
    "print(min(numbers))  #  3\n",
    "print(max(numbers))  #  99"
   ]
  },
  {
   "cell_type": "markdown",
   "id": "422f4988",
   "metadata": {},
   "source": [
    "##### **Looping Through List:**"
   ]
  },
  {
   "cell_type": "markdown",
   "id": "f99a9d42",
   "metadata": {},
   "source": [
    "- Basic for Loop"
   ]
  },
  {
   "cell_type": "code",
   "execution_count": 31,
   "id": "b89ab13e",
   "metadata": {},
   "outputs": [
    {
     "name": "stdout",
     "output_type": "stream",
     "text": [
      "apple\n",
      "banana\n",
      "mango\n"
     ]
    }
   ],
   "source": [
    "fruits = [\"apple\", \"banana\", \"mango\"]\n",
    "\n",
    "for fruit in fruits:\n",
    "    print(fruit)"
   ]
  },
  {
   "cell_type": "markdown",
   "id": "d441ec39",
   "metadata": {},
   "source": [
    "- Using `enumerate()` (Index + Value)"
   ]
  },
  {
   "cell_type": "code",
   "execution_count": 32,
   "id": "670c9d04",
   "metadata": {},
   "outputs": [
    {
     "name": "stdout",
     "output_type": "stream",
     "text": [
      "0: apple\n",
      "1: banana\n",
      "2: mango\n"
     ]
    }
   ],
   "source": [
    "for index, fruit in enumerate(fruits):\n",
    "    print(f\"{index}: {fruit}\")"
   ]
  },
  {
   "cell_type": "markdown",
   "id": "c73766bd",
   "metadata": {},
   "source": [
    "##### **Nested Lists:**"
   ]
  },
  {
   "cell_type": "code",
   "execution_count": 33,
   "id": "b3b31118",
   "metadata": {},
   "outputs": [
    {
     "name": "stdout",
     "output_type": "stream",
     "text": [
      "[[1, 2], [3, 4], [5, 6]]\n"
     ]
    }
   ],
   "source": [
    "nested_lists = [[1, 2], [3, 4], [5, 6]]\n",
    "print(nested_lists)"
   ]
  },
  {
   "cell_type": "markdown",
   "id": "fe30405a",
   "metadata": {},
   "source": [
    "##### **Membership Test: `in` and `not in`:**"
   ]
  },
  {
   "cell_type": "code",
   "execution_count": 34,
   "id": "a47b8d17",
   "metadata": {},
   "outputs": [
    {
     "name": "stdout",
     "output_type": "stream",
     "text": [
      "True\n",
      "False\n",
      "True\n",
      "False\n"
     ]
    }
   ],
   "source": [
    "fruits = [\"apple\", \"banana\"]\n",
    "print(\"apple\" in fruits)      # True\n",
    "print(\"mango\" in fruits)      # False\n",
    "print(\"mango\" not in fruits)  # True\n",
    "print(\"apple\" not in fruits)  # False"
   ]
  },
  {
   "cell_type": "markdown",
   "id": "d7f51c20",
   "metadata": {},
   "source": [
    "##### **Converting from Other Types into List:**"
   ]
  },
  {
   "cell_type": "code",
   "execution_count": 35,
   "id": "1b56056d",
   "metadata": {},
   "outputs": [
    {
     "name": "stdout",
     "output_type": "stream",
     "text": [
      "['1', '2', '3', '4', '5', '6']\n"
     ]
    }
   ],
   "source": [
    "# String to list\n",
    "num_str = \"123456\"\n",
    "num_list = list(num_str)\n",
    "print(num_list)"
   ]
  },
  {
   "cell_type": "code",
   "execution_count": 36,
   "id": "45e87b97",
   "metadata": {},
   "outputs": [
    {
     "name": "stdout",
     "output_type": "stream",
     "text": [
      "[1, 2, 3]\n"
     ]
    }
   ],
   "source": [
    "# Tuple to list\n",
    "num_tuple = (1, 2, 3)\n",
    "num_list = list(num_tuple)\n",
    "print(num_list)"
   ]
  },
  {
   "cell_type": "code",
   "execution_count": 37,
   "id": "4f331f35",
   "metadata": {},
   "outputs": [
    {
     "name": "stdout",
     "output_type": "stream",
     "text": [
      "['life', 'is', 'not', 'easy']\n"
     ]
    }
   ],
   "source": [
    "# Split string into list\n",
    "text = \"life is not easy\"\n",
    "words = text.split()\n",
    "print(words)"
   ]
  },
  {
   "cell_type": "markdown",
   "id": "4d422b19",
   "metadata": {},
   "source": [
    "##### **List Comprehensions:** "
   ]
  },
  {
   "cell_type": "code",
   "execution_count": 38,
   "id": "2db78e56",
   "metadata": {},
   "outputs": [
    {
     "name": "stdout",
     "output_type": "stream",
     "text": [
      "[1, 4, 9, 16, 25]\n"
     ]
    }
   ],
   "source": [
    "squares = [x**2 for x in range(1, 6)] \n",
    "print(squares)"
   ]
  },
  {
   "cell_type": "markdown",
   "id": "a5919075",
   "metadata": {},
   "source": [
    "#### **Tuple**\n",
    "- An ordered collection of elements, similar to a list, but immutable (cannot be changed)."
   ]
  },
  {
   "cell_type": "markdown",
   "id": "25e65fd8",
   "metadata": {},
   "source": [
    "##### **Creating a Tuple:** \n",
    "\n",
    "We use round brackets `()` to create a tuple"
   ]
  },
  {
   "cell_type": "code",
   "execution_count": 39,
   "id": "2bc02a18",
   "metadata": {},
   "outputs": [
    {
     "name": "stdout",
     "output_type": "stream",
     "text": [
      "(1, 2, 3, 4, 5)\n",
      "<class 'tuple'>\n"
     ]
    }
   ],
   "source": [
    "tuple_of_num = (1, 2, 3, 4, 5)\n",
    "\n",
    "print(tuple_of_num)\n",
    "print(type(tuple_of_num))"
   ]
  },
  {
   "cell_type": "code",
   "execution_count": 40,
   "id": "8f532acc",
   "metadata": {},
   "outputs": [
    {
     "name": "stdout",
     "output_type": "stream",
     "text": [
      "(1, 'Ahsan', 3.14, True, None)\n"
     ]
    }
   ],
   "source": [
    "# Creating a tuple with mixed data types\n",
    "mixed_tuple = (1, \"Ahsan\", 3.14, True, None)\n",
    "print(mixed_tuple)"
   ]
  },
  {
   "cell_type": "markdown",
   "id": "ce3056bb",
   "metadata": {},
   "source": [
    "##### **Accessing Tuple Elements:** \n",
    "\n",
    "We can access the tuple element by their index number, Each element in a tuple has an index, starting from 0"
   ]
  },
  {
   "cell_type": "code",
   "execution_count": 41,
   "id": "02b7100d",
   "metadata": {},
   "outputs": [
    {
     "name": "stdout",
     "output_type": "stream",
     "text": [
      "1\n",
      "2\n",
      "5\n",
      "4\n"
     ]
    }
   ],
   "source": [
    "tuple_of_num = (1, 2, 3, 4, 5)\n",
    "\n",
    "print(tuple_of_num[0])  #-> accessing first element\n",
    "print(tuple_of_num[1])  #-> accessing second element\n",
    "print(tuple_of_num[-1]) #-> accessing last element\n",
    "print(tuple_of_num[-2]) #-> accessing second last element"
   ]
  },
  {
   "cell_type": "markdown",
   "id": "0d9a6d3e",
   "metadata": {},
   "source": [
    "##### **Slicing Tuples:** \n",
    "\n",
    "We can extract a portion of the tuple using slicing, which allows us to specify a start and end index."
   ]
  },
  {
   "cell_type": "code",
   "execution_count": 42,
   "id": "c461c288",
   "metadata": {},
   "outputs": [
    {
     "name": "stdout",
     "output_type": "stream",
     "text": [
      "(1, 2)\n"
     ]
    }
   ],
   "source": [
    "num_tuple = (1, 2, 3, 4, 5)\n",
    "first_two = num_tuple[0:2]  # -> slicing to get first two elements\n",
    "print(first_two)"
   ]
  },
  {
   "cell_type": "markdown",
   "id": "5d737d4e",
   "metadata": {},
   "source": [
    "##### **Adding Tuple Elements:** \n",
    "\n",
    "Tuples are immutable, meaning you cannot add or change elements once the tuple is created. However, you can create a new tuple that includes the elements of the original tuple plus the new elements."
   ]
  },
  {
   "cell_type": "markdown",
   "id": "690a838c",
   "metadata": {},
   "source": [
    "- Using + Operator (Concatenation)"
   ]
  },
  {
   "cell_type": "code",
   "execution_count": 43,
   "id": "c4cc79a6",
   "metadata": {},
   "outputs": [
    {
     "name": "stdout",
     "output_type": "stream",
     "text": [
      "(1, 2, 3, 4)\n"
     ]
    }
   ],
   "source": [
    "# Creates a new tuple by adding another tuple\n",
    "t = (1, 2, 3)\n",
    "t = t + (4,)  # Note the comma (,) to make it a tuple\n",
    "print(t)"
   ]
  },
  {
   "cell_type": "code",
   "execution_count": 44,
   "id": "13a0d33d",
   "metadata": {},
   "outputs": [
    {
     "name": "stdout",
     "output_type": "stream",
     "text": [
      "(1, 2, 3, 4, 5, 6)\n"
     ]
    }
   ],
   "source": [
    "# Adding Multiple Elements\n",
    "t = (1, 2, 3)\n",
    "t += (4, 5, 6)\n",
    "print(t)"
   ]
  },
  {
   "cell_type": "markdown",
   "id": "21ee7307",
   "metadata": {},
   "source": [
    "- Converting to List and Back to Tuple"
   ]
  },
  {
   "cell_type": "code",
   "execution_count": 45,
   "id": "6ea94984",
   "metadata": {},
   "outputs": [
    {
     "name": "stdout",
     "output_type": "stream",
     "text": [
      "(1, 2, 3, 4)\n"
     ]
    }
   ],
   "source": [
    "t = (1, 2, 3)\n",
    "temp = list(t)      # -> Convert to list\n",
    "temp.append(4)      # -> Add element\n",
    "t = tuple(temp)     # -> Convert back to tuple\n",
    "print(t)"
   ]
  },
  {
   "cell_type": "markdown",
   "id": "3dd602b9",
   "metadata": {},
   "source": [
    "**Reminder:**\n",
    "- Tuples are immutable, so each of these methods creates a new tuple.\n",
    "- Always include a comma when adding a single element: (6,) not (6)"
   ]
  },
  {
   "cell_type": "markdown",
   "id": "6593cf7e",
   "metadata": {},
   "source": [
    "##### **Remove Tuple Elements:**\n",
    "\n",
    "Since tuples are immutable, you cannot remove elements from them directly. However, you can create a new tuple that excludes the elements you want to remove."
   ]
  },
  {
   "cell_type": "markdown",
   "id": "1ff43955",
   "metadata": {},
   "source": [
    "- Convert Tuple to List, Remove, Then Back"
   ]
  },
  {
   "cell_type": "code",
   "execution_count": 46,
   "id": "9d866d68",
   "metadata": {},
   "outputs": [
    {
     "name": "stdout",
     "output_type": "stream",
     "text": [
      "(10, 20, 40)\n"
     ]
    }
   ],
   "source": [
    "t = (10, 20, 30, 40)\n",
    "temp = list(t)\n",
    "temp.remove(30)    # -> remove by value\n",
    "t = tuple(temp)\n",
    "print(t)"
   ]
  },
  {
   "cell_type": "markdown",
   "id": "2c8799b5",
   "metadata": {},
   "source": [
    "##### **min & max in a Tuple:**\n",
    "- **`min()`**: Returns the smallest item in the tuple.\n",
    "- **`max()`**: Returns the largest item in the tuple."
   ]
  },
  {
   "cell_type": "code",
   "execution_count": 47,
   "id": "3e6fecf3",
   "metadata": {},
   "outputs": [
    {
     "name": "stdout",
     "output_type": "stream",
     "text": [
      "-3\n",
      "109\n"
     ]
    }
   ],
   "source": [
    "numbers = (-3, 34, 23, 67, 109, 4)\n",
    "\n",
    "print(min(numbers)) # -3\n",
    "print(max(numbers)) # 109"
   ]
  },
  {
   "cell_type": "markdown",
   "id": "92fc4caa",
   "metadata": {},
   "source": [
    "- Using Tuple Slicing and Concatenation"
   ]
  },
  {
   "cell_type": "code",
   "execution_count": 48,
   "id": "a6f85a62",
   "metadata": {},
   "outputs": [
    {
     "name": "stdout",
     "output_type": "stream",
     "text": [
      "(1, 2, 4, 5)\n"
     ]
    }
   ],
   "source": [
    "# removing 3 from tuple\n",
    "t = (1, 2, 3, 4, 5)\n",
    "t = t[:2] + t[3:]  # -> # Keep elements before index 2 and after index 2 (skip index 2)\n",
    "print(t)"
   ]
  },
  {
   "cell_type": "markdown",
   "id": "8b2f5bd1",
   "metadata": {},
   "source": [
    "**Important Notes:**\n",
    "- You cannot use `remove()` or `pop()` directly on a tuple.\n",
    "- These tricks create a new tuple each time.\n",
    "\n"
   ]
  },
  {
   "cell_type": "markdown",
   "id": "693c7e85",
   "metadata": {},
   "source": [
    "##### **Tuple unpacking:**\n",
    "\n",
    "Tuple unpacking allows you to assign the elements of a tuple to multiple variables in a single line."
   ]
  },
  {
   "cell_type": "code",
   "execution_count": 49,
   "id": "19a38753",
   "metadata": {},
   "outputs": [
    {
     "name": "stdout",
     "output_type": "stream",
     "text": [
      "Ahsan\n",
      "18\n",
      "Pakistan\n"
     ]
    }
   ],
   "source": [
    "person = (\"Ahsan\", 18, \"Pakistan\")\n",
    "name, age, country = person  # -> Unpacking the tuple into variables\n",
    "\n",
    "print(name)     # -> 'Ahsan'\n",
    "print(age)      # -> 18\n",
    "print(country)  # -> 'Pakistan'"
   ]
  },
  {
   "cell_type": "code",
   "execution_count": 50,
   "id": "ff02b5b2",
   "metadata": {},
   "outputs": [
    {
     "name": "stdout",
     "output_type": "stream",
     "text": [
      "1\n",
      "[2, 3, 4]\n",
      "5\n"
     ]
    }
   ],
   "source": [
    "# Using * to unpack\n",
    "a, *b, c = (1, 2, 3, 4, 5)\n",
    "print(a)  # -> 1\n",
    "print(b)  # -> [2, 3, 4] (a list)\n",
    "print(c)  # -> 5"
   ]
  },
  {
   "cell_type": "markdown",
   "id": "e689aadc",
   "metadata": {},
   "source": [
    "##### **Looping Through Tuples:**"
   ]
  },
  {
   "cell_type": "markdown",
   "id": "44e939b8",
   "metadata": {},
   "source": [
    "- Basic for Loop"
   ]
  },
  {
   "cell_type": "code",
   "execution_count": 51,
   "id": "5cd8538a",
   "metadata": {},
   "outputs": [
    {
     "name": "stdout",
     "output_type": "stream",
     "text": [
      "red\n",
      "green\n",
      "blue\n"
     ]
    }
   ],
   "source": [
    "colors = (\"red\", \"green\", \"blue\")\n",
    "\n",
    "for color in colors:\n",
    "    print(color)"
   ]
  },
  {
   "cell_type": "markdown",
   "id": "6fe650a6",
   "metadata": {},
   "source": [
    "- Using `enumerate()`"
   ]
  },
  {
   "cell_type": "code",
   "execution_count": 52,
   "id": "e156a3f7",
   "metadata": {},
   "outputs": [
    {
     "name": "stdout",
     "output_type": "stream",
     "text": [
      "0: red\n",
      "1: green\n",
      "2: blue\n"
     ]
    }
   ],
   "source": [
    "for index, color in enumerate(colors):\n",
    "    print(f\"{index}: {color}\")"
   ]
  },
  {
   "cell_type": "markdown",
   "id": "33debd6a",
   "metadata": {},
   "source": [
    "##### **Nested Tuples:**\n",
    "\n",
    "Tuples can contain other tuples, allowing for complex data structures.\n"
   ]
  },
  {
   "cell_type": "code",
   "execution_count": 53,
   "id": "9f1d6b90",
   "metadata": {},
   "outputs": [
    {
     "name": "stdout",
     "output_type": "stream",
     "text": [
      "((1, 2), (3, 4))\n"
     ]
    }
   ],
   "source": [
    "nested_t = ((1, 2), (3, 4))\n",
    "print(nested_t)"
   ]
  },
  {
   "cell_type": "markdown",
   "id": "945cdd53",
   "metadata": {},
   "source": [
    "### **4. Mapping Type**"
   ]
  },
  {
   "cell_type": "markdown",
   "id": "1840b3ad",
   "metadata": {},
   "source": [
    "#### **Dictionary**\n",
    "- Represents an unordered collection of key-value pairs.\n",
    "- Keys must be unique and immutable (e.g., strings, numbers, tuples).\n",
    "- Values can be of any data type and can be duplicated."
   ]
  },
  {
   "cell_type": "markdown",
   "id": "2c80769f",
   "metadata": {},
   "source": [
    "##### **Creating a Dictionary:**\n",
    "\n",
    "- We use curly braces `{}` to create a dictionary"
   ]
  },
  {
   "cell_type": "code",
   "execution_count": 54,
   "id": "b32b7fdf",
   "metadata": {},
   "outputs": [
    {
     "name": "stdout",
     "output_type": "stream",
     "text": [
      "{'name': 'Ahsan', 'age': 18, 'country': 'Pakistan'}\n"
     ]
    }
   ],
   "source": [
    "# creating dictionary\n",
    "person = {\n",
    "    \"name\": \"Ahsan\",\n",
    "    \"age\": 18,\n",
    "    \"country\": \"Pakistan\"\n",
    "}\n",
    "\n",
    "print(person)"
   ]
  },
  {
   "cell_type": "markdown",
   "id": "c991070f",
   "metadata": {},
   "source": [
    "- creating a dictionary with keys and values"
   ]
  },
  {
   "cell_type": "code",
   "execution_count": 55,
   "id": "1d18524d",
   "metadata": {},
   "outputs": [
    {
     "name": "stdout",
     "output_type": "stream",
     "text": [
      "<class 'dict'>\n",
      "{'name': 'Ahsan', 'age': 20, 'location': 'Balakot'}\n"
     ]
    }
   ],
   "source": [
    "keys = [\"name\", \"age\", \"location\"]\n",
    "values = [\"Ahsan\", 20, \"Balakot\"]\n",
    "\n",
    "# Combining keys and values into a dictionary using zip()\n",
    "person_dic = dict(zip(keys, values))\n",
    "\n",
    "print(type(person_dic))\n",
    "print(person_dic)"
   ]
  },
  {
   "cell_type": "markdown",
   "id": "7c366b32",
   "metadata": {},
   "source": [
    "##### **Accessing Elements in a Dictionary:**\n",
    "\n",
    "- Use square brackets `[]` with the key to access values"
   ]
  },
  {
   "cell_type": "code",
   "execution_count": 56,
   "id": "60d96b10",
   "metadata": {},
   "outputs": [
    {
     "name": "stdout",
     "output_type": "stream",
     "text": [
      "Ahsan\n",
      "18\n",
      "Pakistan\n"
     ]
    }
   ],
   "source": [
    "person = {\n",
    "    \"name\": \"Ahsan\",\n",
    "    \"age\": 18,\n",
    "    \"country\": \"Pakistan\"\n",
    "}\n",
    "\n",
    "# Accessing values by keys\n",
    "name = person[\"name\"]\n",
    "age = person[\"age\"]     \n",
    "country = person[\"country\"]\n",
    "\n",
    "print(name)\n",
    "print(age)\n",
    "print(country)"
   ]
  },
  {
   "cell_type": "markdown",
   "id": "3eb8099e",
   "metadata": {},
   "source": [
    "- Using `.get()` method is a best practice as it prevents exceptions"
   ]
  },
  {
   "cell_type": "code",
   "execution_count": 57,
   "id": "e6b94639",
   "metadata": {},
   "outputs": [
    {
     "name": "stdout",
     "output_type": "stream",
     "text": [
      "Ahsan\n",
      "18\n"
     ]
    }
   ],
   "source": [
    "person = {\n",
    "    \"name\": \"Ahsan\",\n",
    "    \"age\": 18,\n",
    "    \"country\": \"Pakistan\"\n",
    "}\n",
    "\n",
    "name = person.get(\"name\")\n",
    "age = person.get(\"age\")\n",
    "\n",
    "print(name)\n",
    "print(age)"
   ]
  },
  {
   "cell_type": "code",
   "execution_count": 58,
   "id": "7d6950b8",
   "metadata": {},
   "outputs": [
    {
     "name": "stdout",
     "output_type": "stream",
     "text": [
      "None\n"
     ]
    }
   ],
   "source": [
    "print(person.get(\"adress\")) # -> None, .get() doesn't raise error if key is missing"
   ]
  },
  {
   "cell_type": "markdown",
   "id": "f2afaf06",
   "metadata": {},
   "source": [
    "- Accessing All Keys, Values, and Items"
   ]
  },
  {
   "cell_type": "code",
   "execution_count": 59,
   "id": "be7ea52c",
   "metadata": {},
   "outputs": [
    {
     "name": "stdout",
     "output_type": "stream",
     "text": [
      "Student Keys : dict_keys(['name', 'age', 'course'])\n",
      "Student Values : dict_values(['Ahsan', 20, 'Data Science'])\n",
      "Student Items : dict_items([('name', 'Ahsan'), ('age', 20), ('course', 'Data Science')])\n"
     ]
    }
   ],
   "source": [
    "student = {\"name\": \"Ahsan\", \"age\": 20, \"course\": \"Data Science\"}\n",
    "\n",
    "student_keys = student.keys()\n",
    "student_values = student.values()\n",
    "student_items = student.items()\n",
    "\n",
    "print(f\"Student Keys : {student_keys}\")\n",
    "print(f\"Student Values : {student_values}\")\n",
    "print(f\"Student Items : {student_items}\")"
   ]
  },
  {
   "cell_type": "markdown",
   "id": "177f3e7f",
   "metadata": {},
   "source": [
    "##### **Adding New Elements in Dictionary:** "
   ]
  },
  {
   "cell_type": "code",
   "execution_count": 60,
   "id": "39322c7f",
   "metadata": {},
   "outputs": [
    {
     "name": "stdout",
     "output_type": "stream",
     "text": [
      "{'name': 'Ahsan', 'age': 18, 'course': 'AI', 'grade': 'A'}\n"
     ]
    }
   ],
   "source": [
    "student = {\"name\": \"Ahsan\", \"age\": 18}\n",
    "\n",
    "# Adding new elements\n",
    "student[\"course\"] = \"AI\"\n",
    "student[\"grade\"] = \"A\"\n",
    "\n",
    "print(student)"
   ]
  },
  {
   "cell_type": "markdown",
   "id": "93748f96",
   "metadata": {},
   "source": [
    "- You can even add a list or tuple as a value"
   ]
  },
  {
   "cell_type": "code",
   "execution_count": 61,
   "id": "7c3add0e",
   "metadata": {},
   "outputs": [
    {
     "name": "stdout",
     "output_type": "stream",
     "text": [
      "{'name': 'Ahsan', 'age': 18, 'course': 'AI', 'grade': 'A', 'hobbies': ['reading', 'coding', 'cricket']}\n"
     ]
    }
   ],
   "source": [
    "student[\"hobbies\"] = [\"reading\", \"coding\", \"cricket\"]\n",
    "\n",
    "print(student)"
   ]
  },
  {
   "cell_type": "markdown",
   "id": "d97d7ca8",
   "metadata": {},
   "source": [
    "##### **Updating Values in a Dictionary:**\n",
    "\n",
    "To update a value, just assign a new value to an existing key"
   ]
  },
  {
   "cell_type": "code",
   "execution_count": 62,
   "id": "7a9bdf86",
   "metadata": {},
   "outputs": [
    {
     "name": "stdout",
     "output_type": "stream",
     "text": [
      "Before updating: {'name': 'Ahsan', 'age': 20, 'course': 'AI'}\n",
      "After updating: {'name': 'Ahsan', 'age': 18, 'course': 'Data Science'}\n"
     ]
    }
   ],
   "source": [
    "student = {\"name\": \"Ahsan\", \"age\": 20, \"course\": \"AI\"}\n",
    "print(f\"Before updating: {student}\")\n",
    "\n",
    "# Updating existing values\n",
    "student[\"age\"] = 18                 # -> Updates age\n",
    "student[\"course\"] = \"Data Science\"  # -> Updates course\n",
    "\n",
    "print(f\"After updating: {student}\")"
   ]
  },
  {
   "cell_type": "markdown",
   "id": "beecdf75",
   "metadata": {},
   "source": [
    "- Using `.update()` Method\n",
    "\n",
    "-> `.update()` is useful for updating multiple key-value pairs at once.\\\n",
    "-> If the key exists, it updates. If not, it adds it (acts like add + update)."
   ]
  },
  {
   "cell_type": "code",
   "execution_count": 63,
   "id": "7e111f48",
   "metadata": {},
   "outputs": [
    {
     "name": "stdout",
     "output_type": "stream",
     "text": [
      "Before updating: {'name': 'Ahsan', 'age': 18, 'grade': 'A'}\n",
      "After updating: {'name': 'Ahsan Ali', 'age': 18, 'grade': 'A+'}\n"
     ]
    }
   ],
   "source": [
    "student = {\"name\" : \"Ahsan\", \"age\" : 18, \"grade\" : \"A\"}\n",
    "print(f\"Before updating: {student}\")\n",
    "\n",
    "# updating name and grade\n",
    "student.update({\"name\": \"Ahsan Ali\", \"grade\": \"A+\"})\n",
    "print(f\"After updating: {student}\")"
   ]
  },
  {
   "cell_type": "markdown",
   "id": "faab7e20",
   "metadata": {},
   "source": [
    "##### **Deleting Elements from a Dictionary:**"
   ]
  },
  {
   "cell_type": "markdown",
   "id": "2fae5591",
   "metadata": {},
   "source": [
    "- `del` Keyword: Deletes a key-value pair by key"
   ]
  },
  {
   "cell_type": "code",
   "execution_count": 64,
   "id": "6b8b6dd7",
   "metadata": {},
   "outputs": [
    {
     "name": "stdout",
     "output_type": "stream",
     "text": [
      "{'name': 'Ahsan', 'course': 'AI'}\n"
     ]
    }
   ],
   "source": [
    "student = {\"name\": \"Ahsan\", \"age\": 20, \"course\": \"AI\"}\n",
    "del student[\"age\"]  # Removes 'age' key\n",
    "print(student)"
   ]
  },
  {
   "cell_type": "markdown",
   "id": "2928736a",
   "metadata": {},
   "source": [
    "- `.pop(key)` Removes the key-value pair and returns the value."
   ]
  },
  {
   "cell_type": "code",
   "execution_count": 65,
   "id": "b58195c6",
   "metadata": {},
   "outputs": [
    {
     "name": "stdout",
     "output_type": "stream",
     "text": [
      "{'name': 'Ahsan', 'age': 20}\n",
      "Removed: AI\n"
     ]
    }
   ],
   "source": [
    "student = {\"name\": \"Ahsan\", \"age\": 20, \"course\": \"AI\"}\n",
    "removed_value = student.pop(\"course\")  # Removes 'course' and stores its value\n",
    "print(student)\n",
    "print(\"Removed:\", removed_value)"
   ]
  },
  {
   "cell_type": "markdown",
   "id": "7d83cda7",
   "metadata": {},
   "source": [
    "- `.popitem()` Removes last inserted item"
   ]
  },
  {
   "cell_type": "code",
   "execution_count": 66,
   "id": "d6959ebd",
   "metadata": {},
   "outputs": [
    {
     "name": "stdout",
     "output_type": "stream",
     "text": [
      "{'name': 'Ahsan', 'age': 20}\n"
     ]
    }
   ],
   "source": [
    "student = {\"name\": \"Ahsan\", \"age\": 20, \"course\": \"AI\"}\n",
    "student.popitem()\n",
    "print(student)"
   ]
  },
  {
   "cell_type": "markdown",
   "id": "5f77b10c",
   "metadata": {},
   "source": [
    "`.clear()` Removes all items"
   ]
  },
  {
   "cell_type": "code",
   "execution_count": 67,
   "id": "61af68c2",
   "metadata": {},
   "outputs": [
    {
     "name": "stdout",
     "output_type": "stream",
     "text": [
      "{}\n"
     ]
    }
   ],
   "source": [
    "student = {\"name\": \"Ahsan\", \"age\": 20, \"course\": \"AI\"}\n",
    "student.clear()\n",
    "print(student)"
   ]
  },
  {
   "cell_type": "markdown",
   "id": "de83a295",
   "metadata": {},
   "source": [
    "##### **Looping Through a Dictionary:**"
   ]
  },
  {
   "cell_type": "markdown",
   "id": "1dcf41fa",
   "metadata": {},
   "source": [
    "- Loop Through Keys"
   ]
  },
  {
   "cell_type": "code",
   "execution_count": 68,
   "id": "bf769946",
   "metadata": {},
   "outputs": [
    {
     "name": "stdout",
     "output_type": "stream",
     "text": [
      "name\n",
      "age\n",
      "course\n"
     ]
    }
   ],
   "source": [
    "student = {\"name\": \"Ahsan\", \"age\": 20, \"course\": \"AI\"}\n",
    "\n",
    "for key in student:\n",
    "    print(key)"
   ]
  },
  {
   "cell_type": "markdown",
   "id": "a66096c1",
   "metadata": {},
   "source": [
    "- Loop Through Values"
   ]
  },
  {
   "cell_type": "code",
   "execution_count": 69,
   "id": "dc761452",
   "metadata": {},
   "outputs": [
    {
     "name": "stdout",
     "output_type": "stream",
     "text": [
      "Ahsan\n",
      "20\n",
      "AI\n"
     ]
    }
   ],
   "source": [
    "for value in student.values():\n",
    "    print(value)"
   ]
  },
  {
   "cell_type": "markdown",
   "id": "a619b3c5",
   "metadata": {},
   "source": [
    "- Loop Through Key-Value Pairs"
   ]
  },
  {
   "cell_type": "code",
   "execution_count": 70,
   "id": "09a12a9e",
   "metadata": {},
   "outputs": [
    {
     "name": "stdout",
     "output_type": "stream",
     "text": [
      "name → Ahsan\n",
      "age → 20\n",
      "course → AI\n"
     ]
    }
   ],
   "source": [
    "for key, value in student.items():\n",
    "    print(f\"{key} → {value}\")"
   ]
  },
  {
   "cell_type": "markdown",
   "id": "4fbc16f0",
   "metadata": {},
   "source": [
    "- Using `enumerate()` to get index and value"
   ]
  },
  {
   "cell_type": "code",
   "execution_count": 71,
   "id": "3fdfaef3",
   "metadata": {},
   "outputs": [
    {
     "name": "stdout",
     "output_type": "stream",
     "text": [
      "0. name → Ahsan\n",
      "1. age → 20\n",
      "2. course → AI\n"
     ]
    }
   ],
   "source": [
    "for index, (key, value) in enumerate(student.items()):\n",
    "    print(f\"{index}. {key} → {value}\")"
   ]
  },
  {
   "cell_type": "markdown",
   "id": "c3551d97",
   "metadata": {},
   "source": [
    "##### **Nested Dictionaries:**\n",
    "\n",
    "A nested dictionary is a dictionary inside another dictionary, useful for representing complex structured data."
   ]
  },
  {
   "cell_type": "code",
   "execution_count": 72,
   "id": "03f40038",
   "metadata": {},
   "outputs": [
    {
     "name": "stdout",
     "output_type": "stream",
     "text": [
      "{'student1': {'name': 'Ahsan', 'age': 18, 'course': 'AI'}, 'student2': {'name': 'Usman', 'age': 21, 'course': 'DS'}}\n"
     ]
    }
   ],
   "source": [
    "students = {\n",
    "    \"student1\": {\"name\": \"Ahsan\", \"age\": 18, \"course\": \"AI\"},\n",
    "    \"student2\": {\"name\": \"Usman\", \"age\": 21, \"course\": \"DS\"}\n",
    "}\n",
    "\n",
    "print(students)"
   ]
  },
  {
   "cell_type": "markdown",
   "id": "175c08ac",
   "metadata": {},
   "source": [
    "- Accessing Nested Dictionary Values"
   ]
  },
  {
   "cell_type": "code",
   "execution_count": 73,
   "id": "c0dc213c",
   "metadata": {},
   "outputs": [
    {
     "name": "stdout",
     "output_type": "stream",
     "text": [
      "{'name': 'Ahsan', 'age': 18, 'course': 'AI'}\n"
     ]
    }
   ],
   "source": [
    "# Accessing full inner dictionary\n",
    "print(students['student1'])"
   ]
  },
  {
   "cell_type": "code",
   "execution_count": 74,
   "id": "eeb9a7a7",
   "metadata": {},
   "outputs": [
    {
     "name": "stdout",
     "output_type": "stream",
     "text": [
      "Ahsan\n",
      "AI\n"
     ]
    }
   ],
   "source": [
    "# Accessing a specific value inside inner dictionary\n",
    "print(students[\"student1\"][\"name\"])  # → Ahsan\n",
    "print(students[\"student1\"][\"course\"])  # → AI"
   ]
  },
  {
   "cell_type": "markdown",
   "id": "5385249e",
   "metadata": {},
   "source": [
    "- Adding New Inner Dictionary"
   ]
  },
  {
   "cell_type": "code",
   "execution_count": 75,
   "id": "e68fd98d",
   "metadata": {},
   "outputs": [
    {
     "name": "stdout",
     "output_type": "stream",
     "text": [
      "{'student1': {'name': 'Ahsan', 'age': 18, 'course': 'AI'}, 'student2': {'name': 'Usman', 'age': 21, 'course': 'DS'}, 'student3': {'name': 'Sara', 'age': 21, 'course': 'ML'}}\n"
     ]
    }
   ],
   "source": [
    "students[\"student3\"] = {\"name\": \"Sara\", \"age\": 21, \"course\": \"ML\"}\n",
    "print(students)"
   ]
  },
  {
   "cell_type": "markdown",
   "id": "c658ab10",
   "metadata": {},
   "source": [
    "- Updating Inner Values"
   ]
  },
  {
   "cell_type": "code",
   "execution_count": 76,
   "id": "84a76c50",
   "metadata": {},
   "outputs": [],
   "source": [
    "students[\"student2\"][\"age\"] = 23"
   ]
  },
  {
   "cell_type": "markdown",
   "id": "aa8b1eab",
   "metadata": {},
   "source": [
    "- Looping Through Nested Dictionary"
   ]
  },
  {
   "cell_type": "code",
   "execution_count": 77,
   "id": "20287a62",
   "metadata": {},
   "outputs": [
    {
     "name": "stdout",
     "output_type": "stream",
     "text": [
      "{'student1': {'name': 'Ahsan', 'age': 18, 'course': 'AI'}, 'student2': {'name': 'Usman', 'age': 23, 'course': 'DS'}, 'student3': {'name': 'Sara', 'age': 21, 'course': 'ML'}}\n"
     ]
    }
   ],
   "source": [
    "print(students)"
   ]
  },
  {
   "cell_type": "code",
   "execution_count": 78,
   "id": "f4e1b362",
   "metadata": {},
   "outputs": [
    {
     "name": "stdout",
     "output_type": "stream",
     "text": [
      "All students info:\n",
      "\n",
      "student1 info:\n",
      "name → Ahsan\n",
      "age → 18\n",
      "course → AI\n",
      "All students info:\n",
      "\n",
      "student2 info:\n",
      "name → Usman\n",
      "age → 23\n",
      "course → DS\n",
      "All students info:\n",
      "\n",
      "student3 info:\n",
      "name → Sara\n",
      "age → 21\n",
      "course → ML\n"
     ]
    }
   ],
   "source": [
    "for student, info in students.items():\n",
    "    print(\"All students info:\")\n",
    "    print(f\"\\n{student} info:\")\n",
    "    for key, value in info.items():\n",
    "        print(f\"{key} → {value}\")"
   ]
  },
  {
   "cell_type": "markdown",
   "id": "1323f261",
   "metadata": {},
   "source": [
    "### **5. Set Types**"
   ]
  },
  {
   "cell_type": "markdown",
   "id": "757daf6a",
   "metadata": {},
   "source": [
    "#### **Set**\n",
    "- A set is an unordered collection of unique elements.\n",
    "- Sets are mutable, meaning you can add or remove elements.\n",
    "- Created using curly braces `{}` or the `set()` function."
   ]
  },
  {
   "cell_type": "markdown",
   "id": "98209e6f",
   "metadata": {},
   "source": [
    "##### **Creating a Set:**"
   ]
  },
  {
   "cell_type": "markdown",
   "id": "b7a5e526",
   "metadata": {},
   "source": [
    "- Using curly braces `{}`"
   ]
  },
  {
   "cell_type": "code",
   "execution_count": 79,
   "id": "a8698add",
   "metadata": {},
   "outputs": [
    {
     "name": "stdout",
     "output_type": "stream",
     "text": [
      "<class 'set'>\n",
      "{1, 2, 3, 4, 5}\n"
     ]
    }
   ],
   "source": [
    "num_set = {1, 2, 3, 4, 5}\n",
    "print(type(num_set))\n",
    "print(num_set)"
   ]
  },
  {
   "cell_type": "markdown",
   "id": "b7ae9ddd",
   "metadata": {},
   "source": [
    "- Using `set()` Constructor"
   ]
  },
  {
   "cell_type": "code",
   "execution_count": 80,
   "id": "0c717d36",
   "metadata": {},
   "outputs": [
    {
     "name": "stdout",
     "output_type": "stream",
     "text": [
      "{1, 2, 3, 4}\n"
     ]
    }
   ],
   "source": [
    "new_set = set([1, 2, 3, 4])  # from a list\n",
    "print(new_set)"
   ]
  },
  {
   "cell_type": "code",
   "execution_count": 81,
   "id": "a6c18d9e",
   "metadata": {},
   "outputs": [
    {
     "name": "stdout",
     "output_type": "stream",
     "text": [
      "{'a', 's', 'n', 'h'}\n"
     ]
    }
   ],
   "source": [
    "word_set = set(\"ahsan\")  # from string → duplicates removed\n",
    "print(word_set)"
   ]
  },
  {
   "cell_type": "code",
   "execution_count": 82,
   "id": "6efa9979",
   "metadata": {},
   "outputs": [
    {
     "name": "stdout",
     "output_type": "stream",
     "text": [
      "{10, 20, 30}\n"
     ]
    }
   ],
   "source": [
    "mix_set = set((10, 20, 10, 30))  # from tuple\n",
    "print(mix_set)"
   ]
  },
  {
   "cell_type": "code",
   "execution_count": 83,
   "id": "71cbda01",
   "metadata": {},
   "outputs": [
    {
     "name": "stdout",
     "output_type": "stream",
     "text": [
      "set()\n",
      "<class 'set'>\n"
     ]
    }
   ],
   "source": [
    "# empty set\n",
    "empty_set = set()\n",
    "print(empty_set)\n",
    "print(type(empty_set))"
   ]
  },
  {
   "cell_type": "markdown",
   "id": "5ac42e23",
   "metadata": {},
   "source": [
    "- Set with Mixed Data Types"
   ]
  },
  {
   "cell_type": "code",
   "execution_count": 84,
   "id": "c9b59695",
   "metadata": {},
   "outputs": [
    {
     "name": "stdout",
     "output_type": "stream",
     "text": [
      "{'AI', True, 3.14, 101}\n"
     ]
    }
   ],
   "source": [
    "mix_set = {\"AI\", 101, 3.14, True}\n",
    "print(mix_set)"
   ]
  },
  {
   "cell_type": "markdown",
   "id": "8f41e9d0",
   "metadata": {},
   "source": [
    "- Duplicate Values Are Removed Automatically"
   ]
  },
  {
   "cell_type": "code",
   "execution_count": 85,
   "id": "aaf58535",
   "metadata": {},
   "outputs": [
    {
     "name": "stdout",
     "output_type": "stream",
     "text": [
      "{1, 2, 3, 4, 5}\n"
     ]
    }
   ],
   "source": [
    "dup_set = {1, 2, 2, 3, 4, 4, 5, 5, 5}\n",
    "print(dup_set)"
   ]
  },
  {
   "cell_type": "markdown",
   "id": "62029a5b",
   "metadata": {},
   "source": [
    "##### **Adding Set Elements:**"
   ]
  },
  {
   "cell_type": "markdown",
   "id": "aa0dc5e7",
   "metadata": {},
   "source": [
    "- Using `add()` (Add a single element) (Duplicates will be ignored)"
   ]
  },
  {
   "cell_type": "code",
   "execution_count": 86,
   "id": "28da8dcb",
   "metadata": {},
   "outputs": [
    {
     "name": "stdout",
     "output_type": "stream",
     "text": [
      "{1, 2, 3, 4}\n"
     ]
    }
   ],
   "source": [
    "my_set = {1, 2, 3}\n",
    "my_set.add(4)  # adds 4 to the set\n",
    "print(my_set)"
   ]
  },
  {
   "cell_type": "markdown",
   "id": "aa627262",
   "metadata": {},
   "source": [
    "- `update()` (Add multiple elements from an iterable)"
   ]
  },
  {
   "cell_type": "code",
   "execution_count": 87,
   "id": "e6559934",
   "metadata": {},
   "outputs": [
    {
     "name": "stdout",
     "output_type": "stream",
     "text": [
      "{1, 2, 3, 4, 5, 6}\n"
     ]
    }
   ],
   "source": [
    "my_set = {1, 2, 3}\n",
    "my_set.update([4, 5, 6])  # adds all from the list\n",
    "print(my_set)"
   ]
  },
  {
   "cell_type": "markdown",
   "id": "8729329f",
   "metadata": {},
   "source": [
    "##### **Removing Set Elements:**"
   ]
  },
  {
   "cell_type": "markdown",
   "id": "60ad4bfd",
   "metadata": {},
   "source": [
    "- `remove():` Removes a specific element, but throws an error if not found"
   ]
  },
  {
   "cell_type": "code",
   "execution_count": 88,
   "id": "994bf7a5",
   "metadata": {},
   "outputs": [
    {
     "name": "stdout",
     "output_type": "stream",
     "text": [
      "{10, 30}\n"
     ]
    }
   ],
   "source": [
    "my_set = {10, 20, 30}\n",
    "my_set.remove(20)  # removes 20\n",
    "print(my_set)\n",
    "\n",
    "# my_set.remove(99)  ->  KeyError as 99 not in set"
   ]
  },
  {
   "cell_type": "markdown",
   "id": "10cbb768",
   "metadata": {},
   "source": [
    "- `discard():` Also removes a specific element, but no error if it doesn’t exist."
   ]
  },
  {
   "cell_type": "code",
   "execution_count": 89,
   "id": "52cfd448",
   "metadata": {},
   "outputs": [
    {
     "name": "stdout",
     "output_type": "stream",
     "text": [
      "{1, 3}\n"
     ]
    }
   ],
   "source": [
    "my_set = {1, 2, 3}\n",
    "my_set.discard(2)  # removes 2\n",
    "my_set.discard(99)  # no error\n",
    "print(my_set)"
   ]
  },
  {
   "cell_type": "markdown",
   "id": "55e9cb80",
   "metadata": {},
   "source": [
    "- `pop():` Removes random element and returns."
   ]
  },
  {
   "cell_type": "code",
   "execution_count": 90,
   "id": "672e24f7",
   "metadata": {},
   "outputs": [
    {
     "name": "stdout",
     "output_type": "stream",
     "text": [
      "Removed: 10\n",
      "{5, 15}\n"
     ]
    }
   ],
   "source": [
    "my_set = {5, 10, 15}\n",
    "removed = my_set.pop()\n",
    "print(\"Removed:\", removed)\n",
    "print(my_set)"
   ]
  },
  {
   "cell_type": "markdown",
   "id": "9450a211",
   "metadata": {},
   "source": [
    "- `clear():` Removes all elements (empties the set)."
   ]
  },
  {
   "cell_type": "code",
   "execution_count": 91,
   "id": "24a13f8f",
   "metadata": {},
   "outputs": [
    {
     "name": "stdout",
     "output_type": "stream",
     "text": [
      "set()\n"
     ]
    }
   ],
   "source": [
    "my_set = {1, 2, 3}\n",
    "my_set.clear()\n",
    "print(my_set) "
   ]
  },
  {
   "cell_type": "markdown",
   "id": "b8e9845e",
   "metadata": {},
   "source": [
    "- `del:` Deletes the entire set from memory."
   ]
  },
  {
   "cell_type": "code",
   "execution_count": 92,
   "id": "9f255a60",
   "metadata": {},
   "outputs": [],
   "source": [
    "my_set = {100, 200}\n",
    "del my_set\n",
    "# print(my_set)  # NameError: my_set is not defined"
   ]
  },
  {
   "cell_type": "markdown",
   "id": "a4a5ea7a",
   "metadata": {},
   "source": [
    "##### **Set Mathematical Operations:**"
   ]
  },
  {
   "cell_type": "markdown",
   "id": "e69cd181",
   "metadata": {},
   "source": [
    "**1. Union (`|` or `union()`)**\n",
    "\n",
    "   - Combines two sets, removing duplicates.\n",
    "   - Using `|` operator or `.union()` method."
   ]
  },
  {
   "cell_type": "code",
   "execution_count": 93,
   "id": "7f2e258f",
   "metadata": {},
   "outputs": [
    {
     "name": "stdout",
     "output_type": "stream",
     "text": [
      "{1, 2, 3, 4, 5}\n"
     ]
    }
   ],
   "source": [
    "A = {1, 2, 3}\n",
    "B = {3, 4, 5}\n",
    "\n",
    "print(A.union(B))  # -> or print(A | B) "
   ]
  },
  {
   "cell_type": "markdown",
   "id": "8bbc57a7",
   "metadata": {},
   "source": [
    "**2. Intersection (`&` or `intersection()`)**\n",
    "\n",
    "- Returns elements common to both sets.\n",
    "- Using `&` operator or `.intersection()` method."
   ]
  },
  {
   "cell_type": "code",
   "execution_count": 94,
   "id": "e67d0f64",
   "metadata": {},
   "outputs": [
    {
     "name": "stdout",
     "output_type": "stream",
     "text": [
      "{2, 3}\n"
     ]
    }
   ],
   "source": [
    "A = {1, 2, 3}\n",
    "B = {2, 3, 4}\n",
    "\n",
    "print(A.intersection(B))  # -> or print(A & B)"
   ]
  },
  {
   "cell_type": "markdown",
   "id": "ca474c3e",
   "metadata": {},
   "source": [
    "**3. Difference (`-` or `difference()`)**\n",
    "\n",
    "- Returns elements in the first set but not in the second.\n",
    "- Using `-` operator or `.difference()` method."
   ]
  },
  {
   "cell_type": "code",
   "execution_count": 95,
   "id": "58f5070e",
   "metadata": {},
   "outputs": [
    {
     "name": "stdout",
     "output_type": "stream",
     "text": [
      "{1, 2}\n"
     ]
    }
   ],
   "source": [
    "A = {1, 2, 3, 4}\n",
    "B = {3, 4, 5}\n",
    "\n",
    "print(A.difference(B))  # -> or print(A - B)            "
   ]
  },
  {
   "cell_type": "markdown",
   "id": "c6c112fb",
   "metadata": {},
   "source": [
    "**4. Symmetric Difference (`^` or `symmetric_difference()`)**\n",
    "\n",
    "- Symmetric difference returns the all elements from both sets, excluding any elements common to both.\n",
    "- Using `^` operator or `.symmetric_difference()` method."
   ]
  },
  {
   "cell_type": "code",
   "execution_count": 96,
   "id": "2355884f",
   "metadata": {},
   "outputs": [
    {
     "name": "stdout",
     "output_type": "stream",
     "text": [
      "{1, 2, 4, 5}\n"
     ]
    }
   ],
   "source": [
    "A = {1, 2, 3}\n",
    "B = {3, 4, 5}\n",
    "\n",
    "print(A.symmetric_difference(B))  # -> print(A ^ B)          "
   ]
  },
  {
   "cell_type": "markdown",
   "id": "e9c34bb8",
   "metadata": {},
   "source": [
    "##### **Set Relationships:**\n",
    "\n",
    "These operations help you compare sets, checking if one is a subset, superset, or if sets are completely disjoint.\n",
    "\n",
    "- **Subset**: A set A is a subset of a set B if all elements of A are also elements of B. \n",
    "- **Superset**: A set A is a superset of a set B if all elements of B are also elements of A. \n",
    "- **Disjoint Sets**: Two sets are disjoint if they have no elements in common."
   ]
  },
  {
   "cell_type": "markdown",
   "id": "78a5f34b",
   "metadata": {},
   "source": [
    "**1. Subset (`issubset()` or `<=`)**\n",
    "\n",
    "Returns `True` if all elements of Set A are in Set B"
   ]
  },
  {
   "cell_type": "code",
   "execution_count": 97,
   "id": "5738fbb5",
   "metadata": {},
   "outputs": [
    {
     "name": "stdout",
     "output_type": "stream",
     "text": [
      "True\n"
     ]
    }
   ],
   "source": [
    "A = {1, 2}\n",
    "B = {1, 2, 3, 4}\n",
    "\n",
    "print(A.issubset(B))  # or print(A <= B)"
   ]
  },
  {
   "cell_type": "markdown",
   "id": "afb988ce",
   "metadata": {},
   "source": [
    "**2. Superset (`issuperset()` or` >=`)**\n",
    "\n",
    "Returns `True` if Set A contains all elements of Set B"
   ]
  },
  {
   "cell_type": "code",
   "execution_count": 98,
   "id": "d1f110b4",
   "metadata": {},
   "outputs": [
    {
     "name": "stdout",
     "output_type": "stream",
     "text": [
      "True\n"
     ]
    }
   ],
   "source": [
    "A = {1, 2, 3, 4}\n",
    "B = {2, 3}\n",
    "\n",
    "print(A.issuperset(B))  # or print(A >= B)"
   ]
  },
  {
   "cell_type": "markdown",
   "id": "9f6b7638",
   "metadata": {},
   "source": [
    "**3. Disjoint (`isdisjoint()`)**\n",
    "\n",
    "Returns `True` if two sets have no elements in common"
   ]
  },
  {
   "cell_type": "code",
   "execution_count": 99,
   "id": "e5dd237c",
   "metadata": {},
   "outputs": [
    {
     "name": "stdout",
     "output_type": "stream",
     "text": [
      "True\n"
     ]
    }
   ],
   "source": [
    "A = {1, 2, 3}\n",
    "B = {4, 5, 6}\n",
    "\n",
    "print(A.isdisjoint(B))"
   ]
  },
  {
   "cell_type": "markdown",
   "id": "213270ab",
   "metadata": {},
   "source": [
    "**Subset** → \"I am part of the bigger group\"\n",
    "\n",
    "**Superset** → \"I contain everything in the other group\"\n",
    "\n",
    "**Disjoint** → \"We don’t share anything\""
   ]
  },
  {
   "cell_type": "markdown",
   "id": "342a6ecd",
   "metadata": {},
   "source": [
    "##### **Looping Through a Set:**\n",
    "\n",
    "Since sets are unordered collections, you can loop through them using a simple for loop, but order is not guaranteed."
   ]
  },
  {
   "cell_type": "markdown",
   "id": "98c745d8",
   "metadata": {},
   "source": [
    "- Basic for Loop\n",
    "\n",
    "This prints all elements, in any order (not like list indexing)"
   ]
  },
  {
   "cell_type": "code",
   "execution_count": 100,
   "id": "ded325e4",
   "metadata": {},
   "outputs": [
    {
     "name": "stdout",
     "output_type": "stream",
     "text": [
      "banana\n",
      "cherry\n",
      "apple\n"
     ]
    }
   ],
   "source": [
    "fruit_set = {\"apple\", \"banana\", \"cherry\"}\n",
    "\n",
    "for fruit in fruit_set: \n",
    "    print(fruit)"
   ]
  },
  {
   "cell_type": "markdown",
   "id": "2a051cfb",
   "metadata": {},
   "source": [
    "- Loop with Condition"
   ]
  },
  {
   "cell_type": "code",
   "execution_count": 101,
   "id": "b821ee4d",
   "metadata": {},
   "outputs": [
    {
     "name": "stdout",
     "output_type": "stream",
     "text": [
      "50 is greater than 25\n",
      "40 is greater than 25\n",
      "30 is greater than 25\n"
     ]
    }
   ],
   "source": [
    "my_set = {10, 20, 30, 40, 50}\n",
    "\n",
    "for num in my_set:\n",
    "    if num > 25:\n",
    "        print(f\"{num} is greater than 25\")"
   ]
  },
  {
   "cell_type": "markdown",
   "id": "6ce015ff",
   "metadata": {},
   "source": [
    "#### **Frozenset**\n",
    "- A frozenset is an immutable version of a set, meaning that once it is created, it cannot be modified (i.e., no adding or removing elements)."
   ]
  },
  {
   "cell_type": "code",
   "execution_count": 102,
   "id": "2d0eedb2",
   "metadata": {},
   "outputs": [
    {
     "name": "stdout",
     "output_type": "stream",
     "text": [
      "<class 'frozenset'>\n",
      "frozenset({1, 2, 3, 4, 5})\n"
     ]
    }
   ],
   "source": [
    "# creating frozenset\n",
    "frozen_set = frozenset([1, 2, 3, 4, 5])\n",
    "print(type(frozen_set))\n",
    "print(frozen_set)"
   ]
  },
  {
   "cell_type": "markdown",
   "id": "4ec98755",
   "metadata": {},
   "source": [
    "### **6. Boolean Type**\n",
    "- Represents one of two values: `True` or `False`.\n",
    "- Used for logical operations and conditions."
   ]
  },
  {
   "cell_type": "code",
   "execution_count": 103,
   "id": "9e6d1841",
   "metadata": {},
   "outputs": [
    {
     "name": "stdout",
     "output_type": "stream",
     "text": [
      "True\n",
      "False\n",
      "<class 'bool'>\n"
     ]
    }
   ],
   "source": [
    "print(True)   \n",
    "print(False)  \n",
    "print(type(True))  "
   ]
  },
  {
   "cell_type": "markdown",
   "id": "513bf5b4",
   "metadata": {},
   "source": [
    "##### **Boolean from Expressions:**"
   ]
  },
  {
   "cell_type": "code",
   "execution_count": 104,
   "id": "8975cb05",
   "metadata": {},
   "outputs": [
    {
     "name": "stdout",
     "output_type": "stream",
     "text": [
      "True\n",
      "False\n",
      "True\n",
      "False\n"
     ]
    }
   ],
   "source": [
    "print(5 > 3)      # True\n",
    "print(10 == 20)   # False\n",
    "print(3 < 7)      # True\n",
    "print(5 != 5)     # False"
   ]
  },
  {
   "cell_type": "markdown",
   "id": "b6cf6d73",
   "metadata": {},
   "source": [
    "##### **`bool()` Function Conversion:**"
   ]
  },
  {
   "cell_type": "code",
   "execution_count": 105,
   "id": "70188bd4",
   "metadata": {},
   "outputs": [
    {
     "name": "stdout",
     "output_type": "stream",
     "text": [
      "False\n",
      "True\n",
      "False\n",
      "True\n"
     ]
    }
   ],
   "source": [
    "print(bool(0))       # False\n",
    "print(bool(1))       # True\n",
    "print(bool(\"\"))      # False\n",
    "print(bool(\"hello\")) # True"
   ]
  },
  {
   "cell_type": "markdown",
   "id": "8fc98792",
   "metadata": {},
   "source": [
    "##### **Logical Operators:**"
   ]
  },
  {
   "cell_type": "code",
   "execution_count": 106,
   "id": "240c55c6",
   "metadata": {},
   "outputs": [
    {
     "name": "stdout",
     "output_type": "stream",
     "text": [
      "False\n",
      "True\n",
      "False\n",
      "True\n",
      "False\n",
      "True\n",
      "True\n",
      "True\n",
      "False\n",
      "True\n"
     ]
    }
   ],
   "source": [
    "print(True and False)  # False\n",
    "print(True or False)   # True\n",
    "print(not True)        # False\n",
    "print(True and True)   # True\n",
    "print(False or False)  # False\n",
    "print(not False)       # True\n",
    "print(True and (False or True))  # True\n",
    "print((True or False) and True)  # True\n",
    "print((True and False) or (False and True))  # False\n",
    "print((True or False) and (False or True))  # True"
   ]
  },
  {
   "cell_type": "markdown",
   "id": "eaa89d94",
   "metadata": {},
   "source": [
    "##### **Booleans in `if` Conditions:**"
   ]
  },
  {
   "cell_type": "code",
   "execution_count": 107,
   "id": "229577b9",
   "metadata": {},
   "outputs": [
    {
     "name": "stdout",
     "output_type": "stream",
     "text": [
      "x is truthy\n"
     ]
    }
   ],
   "source": [
    "x = 10\n",
    "if x:\n",
    "    print(\"x is truthy\")  # Executes since 10 -> True"
   ]
  },
  {
   "cell_type": "markdown",
   "id": "dddb9dda",
   "metadata": {},
   "source": [
    "### **7. None Type**"
   ]
  },
  {
   "cell_type": "markdown",
   "id": "0c2add79",
   "metadata": {},
   "source": [
    "#### **NoneType**\n",
    "- Represents the absence of a value or a null value."
   ]
  },
  {
   "cell_type": "code",
   "execution_count": 108,
   "id": "38daa8d4",
   "metadata": {},
   "outputs": [
    {
     "name": "stdout",
     "output_type": "stream",
     "text": [
      "<class 'NoneType'>\n"
     ]
    }
   ],
   "source": [
    "x = None\n",
    "print(type(x))  # <class 'NoneType'>"
   ]
  },
  {
   "cell_type": "markdown",
   "id": "403d75e6",
   "metadata": {},
   "source": [
    "##### **Common Use Cases:**"
   ]
  },
  {
   "cell_type": "markdown",
   "id": "85ad969e",
   "metadata": {},
   "source": [
    "- As a default return value for functions that don’t explicitly return anything:"
   ]
  },
  {
   "cell_type": "code",
   "execution_count": 109,
   "id": "454f1668",
   "metadata": {},
   "outputs": [
    {
     "name": "stdout",
     "output_type": "stream",
     "text": [
      "Hello\n",
      "None\n"
     ]
    }
   ],
   "source": [
    "def greet():\n",
    "    print(\"Hello\")\n",
    "\n",
    "result = greet()\n",
    "print(result)  # None"
   ]
  },
  {
   "cell_type": "markdown",
   "id": "29e0bf80",
   "metadata": {},
   "source": [
    "- To initialize a variable without value"
   ]
  },
  {
   "cell_type": "code",
   "execution_count": 110,
   "id": "93e85d13",
   "metadata": {},
   "outputs": [],
   "source": [
    "user = None"
   ]
  },
  {
   "cell_type": "markdown",
   "id": "fab4b9de",
   "metadata": {},
   "source": [
    "- As a default argument in functions"
   ]
  },
  {
   "cell_type": "code",
   "execution_count": 111,
   "id": "ca8eba0c",
   "metadata": {},
   "outputs": [
    {
     "name": "stdout",
     "output_type": "stream",
     "text": [
      "No data passed\n"
     ]
    }
   ],
   "source": [
    "def show(data=None):\n",
    "    if data is None:\n",
    "        print(\"No data passed\")\n",
    "\n",
    "show()"
   ]
  },
  {
   "cell_type": "markdown",
   "id": "8744c58b",
   "metadata": {},
   "source": [
    "##### **Checking for None:**"
   ]
  },
  {
   "cell_type": "code",
   "execution_count": 112,
   "id": "0025d28d",
   "metadata": {},
   "outputs": [
    {
     "name": "stdout",
     "output_type": "stream",
     "text": [
      "a is None\n"
     ]
    }
   ],
   "source": [
    "a = None\n",
    "\n",
    "if a is None:\n",
    "    print(\"a is None\") \n"
   ]
  }
 ],
 "metadata": {
  "kernelspec": {
   "display_name": "Codanics",
   "language": "python",
   "name": "python3"
  },
  "language_info": {
   "codemirror_mode": {
    "name": "ipython",
    "version": 3
   },
   "file_extension": ".py",
   "mimetype": "text/x-python",
   "name": "python",
   "nbconvert_exporter": "python",
   "pygments_lexer": "ipython3",
   "version": "3.11.11"
  }
 },
 "nbformat": 4,
 "nbformat_minor": 5
}
