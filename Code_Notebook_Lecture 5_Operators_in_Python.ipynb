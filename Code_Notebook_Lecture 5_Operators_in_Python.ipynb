{
 "cells": [
  {
   "cell_type": "markdown",
   "id": "02605629",
   "metadata": {},
   "source": [
    "# **Lecture 5: Operators in Python**"
   ]
  },
  {
   "cell_type": "markdown",
   "id": "dd6999d5",
   "metadata": {},
   "source": [
    "**Author Name :** Ahsan Ali Rajpoot\n",
    "- **Linkedin :** [linkedin.com/in/iamahsanalirajpoot](linkedin.com/in/iamahsanalirajpoot)\n",
    "- **Facebook :** [facebook.com/iamahsanalirajpoot](facebook.com/iamahsanalirajpoot)\n",
    "- **GitHub :** [github.com/iamahsanalirajpoot](github.com/iamahsanalirajpoot)\n",
    "- **Kaggle :** [kaggle.com/ahsanalirajpoot](kaggle.com/ahsanalirajpoot)"
   ]
  },
  {
   "cell_type": "markdown",
   "id": "3b766bcc",
   "metadata": {},
   "source": [
    "## **What are Operators?**\n",
    "Operators are special symbols in Python that perform operations on variables and values."
   ]
  },
  {
   "cell_type": "markdown",
   "id": "e719b637",
   "metadata": {},
   "source": [
    "## **Main Types of Operators in Python**\n",
    "1. **Arithmetic Operators**\n",
    "2. **Assignment Operators**\n",
    "3. **Comparison Operators**\n",
    "4. **Logical Operators**"
   ]
  },
  {
   "cell_type": "markdown",
   "id": "8cc2cd61",
   "metadata": {},
   "source": [
    "### **1. Arithmetic Operators**\n",
    "Arithmetic operators are used to perform mathematical operations such as addition, subtraction, multiplication, and division. The most common arithmetic operators in Python are:\n",
    "\n",
    "- **Addition (`+`)**: Adds two operands.\n",
    "- **Subtraction (`-`)**: Subtracts the second operand from the first.\n",
    "- **Multiplication (`*`)**: Multiplies two operands.\n",
    "- **Division (`/`)**: Divides the first operand by the second (returns a float).\n",
    "- **Floor Division (`//`)**: Divides and returns the largest whole number (integer).\n",
    "- **Modulus (`%`)**: Returns the remainder of the division.\n",
    "- **Exponentiation (`**`)**: Raises the first operand to the power of the second.\n",
    "\n",
    "Example:"
   ]
  },
  {
   "cell_type": "code",
   "execution_count": 10,
   "id": "768eb39b",
   "metadata": {},
   "outputs": [
    {
     "name": "stdout",
     "output_type": "stream",
     "text": [
      "13\n",
      "7\n",
      "30\n",
      "3.3333333333333335\n",
      "3\n",
      "1\n",
      "1000\n"
     ]
    }
   ],
   "source": [
    "a = 10\n",
    "b = 3\n",
    "\n",
    "print(a + b)  # Addition\n",
    "print(a - b)  # Subtraction\n",
    "print(a * b)  # Multiplication\n",
    "print(a / b)  # Division\n",
    "print(a // b) # Floor Division\n",
    "print(a % b)  # Modulus\n",
    "print(a ** b) # Exponentiation"
   ]
  },
  {
   "cell_type": "markdown",
   "id": "06f5eff5",
   "metadata": {},
   "source": [
    "### **2. Assignment Operators**\n",
    "Assignment operators are used to assign values to variables. The most common assignment operator in Python is the equal sign (`=`). However, there are several shorthand assignment operators that combine an arithmetic operation with assignment. These include:\n",
    "\n",
    "- **Addition Assignment (`+=`)**: Adds the right operand to the left operand and assigns the result to the left operand.\n",
    "- **Subtraction Assignment (`-=`)**: Subtracts the right operand from the left operand and assigns the result to the left operand.\n",
    "- **Multiplication Assignment (`*=`)**: Multiplies the left operand by the right operand and assigns the result to the left operand.\n",
    "- **Division Assignment (`/=`)**: Divides the left operand by the right operand and assigns the result to the left operand.\n",
    "- **Floor Division Assignment (`//=`)**: Performs floor division on the left operand by the right operand and assigns the result to the left operand.\n",
    "- **Modulus Assignment (`%=`)**: Takes the modulus of the left operand by the right operand and assigns the result to the left operand.\n",
    "- **Exponentiation Assignment (`**=`)**: Raises the left operand to the power of the right operand and assigns the result to the left operand.\n",
    "\n",
    "Example:"
   ]
  },
  {
   "cell_type": "code",
   "execution_count": 11,
   "id": "30f90008",
   "metadata": {},
   "outputs": [
    {
     "name": "stdout",
     "output_type": "stream",
     "text": [
      "13\n",
      "1\n",
      "13\n",
      "1.0\n",
      "6\n",
      "0.0\n",
      "36\n"
     ]
    }
   ],
   "source": [
    "a = 10\n",
    "b = 3\n",
    "\n",
    "a += b  # a = a + b\n",
    "print(a)  # Output: 13\n",
    "\n",
    "b -= 2  # b = b - 2\n",
    "print(b)  # Output: 1\n",
    "\n",
    "a *= b  # a = a * b\n",
    "print(a)  # Output: 13\n",
    "\n",
    "b /= 1  # b = b / 1\n",
    "print(b)  # Output: 1.0\n",
    "\n",
    "a //= 2  # a = a // 2\n",
    "print(a)  # Output: 6\n",
    "\n",
    "b %= 1  # b = b % 1\n",
    "print(b)  # Output: 0.0\n",
    "\n",
    "a **= 2  # a = a ** 2\n",
    "print(a)  # Output: 36"
   ]
  },
  {
   "cell_type": "markdown",
   "id": "7a31dff4",
   "metadata": {},
   "source": [
    "### **3. Comparison Operators**\n",
    "Comparison operators are used to compare two values. The result of a comparison is a boolean value (`True` or `False`). The most common comparison operators in Python are:\n",
    "\n",
    "- **Equal to (`==`)**: Returns `True` if both operands are equal.\n",
    "- **Not equal to (`!=`)**: Returns `True` if both operands are not equal.\n",
    "- **Greater than (`>`)**: Returns `True` if the left operand is greater than the right operand.\n",
    "- **Less than (`<`)**: Returns `True` if the left operand is less than the right operand.\n",
    "- **Greater than or equal to (`>=`)**: Returns `True` if the left operand is greater than or equal to the right operand.\n",
    "- **Less than or equal to (`<=`)**: Returns `True` if the left operand is less than or equal to the right operand.\n",
    "\n",
    "Example:"
   ]
  },
  {
   "cell_type": "code",
   "execution_count": 15,
   "id": "b015359e",
   "metadata": {},
   "outputs": [
    {
     "name": "stdout",
     "output_type": "stream",
     "text": [
      "False\n",
      "True\n",
      "False\n",
      "True\n",
      "False\n",
      "True\n"
     ]
    }
   ],
   "source": [
    "a = 2\n",
    "b = 6\n",
    "\n",
    "print(a == b)  # Equal to -> False\n",
    "print(a != b)  # Not equal to -> True\n",
    "print(a > b)   # Greater than -> False\n",
    "print(a < b)   # Less than -> True\n",
    "print(a >= b)  # Greater than or equal to -> False\n",
    "print(a <= b)  # Less than or equal to -> True"
   ]
  },
  {
   "cell_type": "markdown",
   "id": "b66b77e5",
   "metadata": {},
   "source": [
    "### **4. Logical Operators**\n",
    "\n",
    "Logical operators are used to combine conditional statements. The most common logical operators in Python are:\n",
    "\n",
    "- **AND (`and`)**: Returns `True` if both operands are true.\n",
    "- **OR (`or`)**: Returns `True` if at least one of the operands is true.\n",
    "- **NOT (`not`)**: Reverses the logical state of its operand.\n",
    "\n",
    "Example:"
   ]
  },
  {
   "cell_type": "code",
   "execution_count": 18,
   "id": "56376da8",
   "metadata": {},
   "outputs": [
    {
     "name": "stdout",
     "output_type": "stream",
     "text": [
      "True\n",
      "True\n",
      "False\n"
     ]
    }
   ],
   "source": [
    "# logical operators\n",
    "a = 4\n",
    "b = 5\n",
    "\n",
    "print(a < 5 and b > 4)  # True and True -> True\n",
    "print(a < 5 or b < 4)   # True or False -> True\n",
    "print(not (a < 5))       # not True -> False"
   ]
  }
 ],
 "metadata": {
  "kernelspec": {
   "display_name": "Codanics",
   "language": "python",
   "name": "python3"
  },
  "language_info": {
   "codemirror_mode": {
    "name": "ipython",
    "version": 3
   },
   "file_extension": ".py",
   "mimetype": "text/x-python",
   "name": "python",
   "nbconvert_exporter": "python",
   "pygments_lexer": "ipython3",
   "version": "3.11.11"
  }
 },
 "nbformat": 4,
 "nbformat_minor": 5
}
