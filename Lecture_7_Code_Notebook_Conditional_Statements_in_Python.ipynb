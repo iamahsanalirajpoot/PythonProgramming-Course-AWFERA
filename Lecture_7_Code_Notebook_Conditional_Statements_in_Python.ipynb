{
  "nbformat": 4,
  "nbformat_minor": 0,
  "metadata": {
    "colab": {
      "provenance": [],
      "toc_visible": true
    },
    "kernelspec": {
      "name": "python3",
      "display_name": "Python 3"
    },
    "language_info": {
      "name": "python"
    }
  },
  "cells": [
    {
      "cell_type": "markdown",
      "source": [
        "# **Lecture 7: Conditional Statements in Python**"
      ],
      "metadata": {
        "id": "QQn2flMuzHtL"
      }
    },
    {
      "cell_type": "markdown",
      "source": [
        "**Author Name :** Ahsan Ali Rajpoot  \n",
        "- **LinkedIn :** [linkedin.com/in/iamahsanalirajpoot](https://www.linkedin.com/in/iamahsanalirajpoot)  \n",
        "- **Facebook :** [facebook.com/iamahsanalirajpoot](https://www.facebook.com/iamahsanalirajpoot)  \n",
        "- **GitHub :** [github.com/iamahsanalirajpoot](https://github.com/iamahsanalirajpoot)  \n",
        "- **Kaggle :** [kaggle.com/ahsanalirajpoot](https://www.kaggle.com/ahsanalirajpoot)"
      ],
      "metadata": {
        "id": "r5Zb8yblzYwW"
      }
    },
    {
      "cell_type": "markdown",
      "source": [
        "## **Python Conditional Statements**\n",
        "\n",
        "**Why Do We Need Conditional Statements?**\n",
        "\n",
        "Conditional statements are used to make decisions in a program based on specific conditions. They allow the program to execute different blocks of code depending on whether a condition is true or false.\n",
        "\n",
        "**Real-Life Examples:**\n",
        "\n",
        "- If it rains, take an umbrella.\n",
        "- If the traffic light is green, drive; if it is red, stop.\n",
        "- If the user enters the correct password, allow login; otherwise, deny access.\n",
        "\n",
        "**Key Insight:** Conditional statements change the sequence of program execution based on conditions."
      ],
      "metadata": {
        "id": "Mt6dmTu1yaWd"
      }
    },
    {
      "cell_type": "markdown",
      "source": [
        "### **if Statement:**\n",
        "\n",
        "Used to execute a block of code only if the condition is true.\n"
      ],
      "metadata": {
        "id": "bDViuz0bzlwE"
      }
    },
    {
      "cell_type": "code",
      "source": [
        "light = \"Green\"\n",
        "\n",
        "if light == \"Green\":\n",
        "  print(\"Go!\")"
      ],
      "metadata": {
        "colab": {
          "base_uri": "https://localhost:8080/"
        },
        "id": "N1GNHy6lztcy",
        "outputId": "707ad2d1-5ab8-47ce-ab9d-e123a1935447"
      },
      "execution_count": null,
      "outputs": [
        {
          "output_type": "stream",
          "name": "stdout",
          "text": [
            "Go!\n"
          ]
        }
      ]
    },
    {
      "cell_type": "markdown",
      "source": [
        "### **if-else Statement:**\n",
        "\n",
        "Used to choose between two paths, if condition is true, run one block, else run another."
      ],
      "metadata": {
        "id": "5Zb4Wbh_0Bvu"
      }
    },
    {
      "cell_type": "code",
      "source": [
        "light = \"red\"\n",
        "\n",
        "if light == \"green\":\n",
        "  print(\"Go!\")\n",
        "else:\n",
        "  print(\"Stop\")"
      ],
      "metadata": {
        "colab": {
          "base_uri": "https://localhost:8080/"
        },
        "id": "bFZU1VSe39yC",
        "outputId": "6d44b20d-3ac4-4d90-b9f9-f248e99d693a"
      },
      "execution_count": null,
      "outputs": [
        {
          "output_type": "stream",
          "name": "stdout",
          "text": [
            "Stop\n"
          ]
        }
      ]
    },
    {
      "cell_type": "markdown",
      "source": [
        "### **if-elif-else:**\n",
        "\n",
        "Used when you have multiple conditions to check in a sequence."
      ],
      "metadata": {
        "id": "IxhNAqXQ4TXT"
      }
    },
    {
      "cell_type": "code",
      "source": [
        "light = \"yellow\"\n",
        "\n",
        "if light == \"green\":\n",
        "  print(\"Go!\")\n",
        "elif light == \"yellow\":\n",
        "  print(\"Slow down!\")\n",
        "else:\n",
        "  print(\"Stop!\")"
      ],
      "metadata": {
        "colab": {
          "base_uri": "https://localhost:8080/"
        },
        "id": "hZYWI76v4YuZ",
        "outputId": "e8e16bce-9b27-4f53-b62a-74dfbbd8a381"
      },
      "execution_count": null,
      "outputs": [
        {
          "output_type": "stream",
          "name": "stdout",
          "text": [
            "Slow down!\n"
          ]
        }
      ]
    },
    {
      "cell_type": "markdown",
      "source": [
        "### **Nested if Statements:**\n",
        "\n",
        "Allows you to write an `if` block inside another `if` block for deeper condition checking"
      ],
      "metadata": {
        "id": "r3BJYD3x4rG4"
      }
    },
    {
      "cell_type": "code",
      "source": [
        "light = \"green\"\n",
        "pedestarian = True\n",
        "\n",
        "if light == \"green\":\n",
        "  if pedestarian:\n",
        "    print(\"Wait for pedestarian\")\n",
        "  else:\n",
        "    print(\"Go!\")"
      ],
      "metadata": {
        "colab": {
          "base_uri": "https://localhost:8080/"
        },
        "id": "lqI2dEhK4tJp",
        "outputId": "ae0db633-006d-4b84-e355-9e55809414a4"
      },
      "execution_count": null,
      "outputs": [
        {
          "output_type": "stream",
          "name": "stdout",
          "text": [
            "Wait for pedestarian\n"
          ]
        }
      ]
    },
    {
      "cell_type": "markdown",
      "source": [
        "### **Logical Operators in Conditional Statement (`and`, `or`, `not`)**\n",
        "\n",
        "Used to combine multiple conditions in a single `if` statement."
      ],
      "metadata": {
        "id": "VMbrZKWx78-8"
      }
    },
    {
      "cell_type": "code",
      "source": [
        "light = \"green\"\n",
        "road_clear = True\n",
        "\n",
        "if light == \"green\" and road_clear:\n",
        "  print(\"You can Go!\")\n",
        "else:\n",
        "  print(\"Wait!\")"
      ],
      "metadata": {
        "colab": {
          "base_uri": "https://localhost:8080/"
        },
        "id": "k1ODPchi8Bxo",
        "outputId": "f4768aed-859a-45ec-acc7-7f782583174a"
      },
      "execution_count": null,
      "outputs": [
        {
          "output_type": "stream",
          "name": "stdout",
          "text": [
            "You can Go!\n"
          ]
        }
      ]
    },
    {
      "cell_type": "markdown",
      "source": [
        "### **Comparison Operators:**\n",
        "\n",
        "Used to compare values (like `==`, `!=`, `>`, `<`, etc.) in conditions."
      ],
      "metadata": {
        "id": "-Dv0aU798fKY"
      }
    },
    {
      "cell_type": "code",
      "source": [
        "speed = 60\n",
        "\n",
        "if speed > 80:\n",
        "    print(\"Over Speeding\")\n",
        "elif speed == 60:\n",
        "    print(\"Perfect Speed\")\n",
        "else:\n",
        "    print(\"Too Slow\")"
      ],
      "metadata": {
        "colab": {
          "base_uri": "https://localhost:8080/"
        },
        "id": "WW67VmFf8ndU",
        "outputId": "da4ce61e-1af0-4749-eab9-71bd853f6ae9"
      },
      "execution_count": null,
      "outputs": [
        {
          "output_type": "stream",
          "name": "stdout",
          "text": [
            "Perfect Speed\n"
          ]
        }
      ]
    },
    {
      "cell_type": "markdown",
      "source": [
        "### **`pass` Statement:**\n",
        "\n",
        "Used when you want a placeholder for future code but don’t want to leave the block empty."
      ],
      "metadata": {
        "id": "ksSPLoKT8t4q"
      }
    },
    {
      "cell_type": "code",
      "source": [
        "light = \"Green\"\n",
        "\n",
        "if light == \"Green\":\n",
        "    pass  # will code later"
      ],
      "metadata": {
        "id": "3n5kgIGK8x4S"
      },
      "execution_count": null,
      "outputs": []
    },
    {
      "cell_type": "markdown",
      "source": [
        "### **One-line `if` / `if-else`:**\n",
        "\n",
        "Allows writing simple conditionals in a compact, single line."
      ],
      "metadata": {
        "id": "n6kz0eV8-I3P"
      }
    },
    {
      "cell_type": "code",
      "source": [
        "light = \"green\"\n",
        "print(\"Go!\") if light == \"green\" else print(\"Stop!\")"
      ],
      "metadata": {
        "colab": {
          "base_uri": "https://localhost:8080/"
        },
        "id": "_QZstPVk-Vxf",
        "outputId": "5b0bcde7-aca1-4294-f2f9-35a19b274ff2"
      },
      "execution_count": null,
      "outputs": [
        {
          "output_type": "stream",
          "name": "stdout",
          "text": [
            "Go!\n"
          ]
        }
      ]
    },
    {
      "cell_type": "markdown",
      "source": [
        "### **Ternary Operator:**\n",
        "\n",
        "Assigns a value to a variable based on a condition in one line."
      ],
      "metadata": {
        "id": "WWZw1qao-h3G"
      }
    },
    {
      "cell_type": "code",
      "source": [
        "light = \"green\"\n",
        "\n",
        "action = \"Go\" if light == \"green\" else \"stop\"\n",
        "print(action)"
      ],
      "metadata": {
        "colab": {
          "base_uri": "https://localhost:8080/"
        },
        "id": "Ooi267qW-n1W",
        "outputId": "d0b6ff94-8fc4-403d-ec82-640d031748ae"
      },
      "execution_count": null,
      "outputs": [
        {
          "output_type": "stream",
          "name": "stdout",
          "text": [
            "Go\n"
          ]
        }
      ]
    },
    {
      "cell_type": "markdown",
      "source": [
        "## **Best Practices for Using Conditional Statements**\n",
        "\n",
        "- Use indentation correctly (4 spaces or a tab).\n",
        "- Keep conditions simple and readable.\n",
        "- Use logical operators to combine multiple conditions.\n",
        "- Handle case sensitivity when comparing strings."
      ],
      "metadata": {
        "id": "Ewie4ylTH9R4"
      }
    },
    {
      "cell_type": "markdown",
      "source": [
        "## **Python Conditional Statement Problems**"
      ],
      "metadata": {
        "id": "SW7v1KhoKDfP"
      }
    },
    {
      "cell_type": "markdown",
      "source": [
        "### **Traffic Light Controller**\n",
        "\n",
        "Ask the user to input the traffic light color (Green, Yellow, Red) and print the appropriate action."
      ],
      "metadata": {
        "id": "VwXGSbnQKJoc"
      }
    },
    {
      "cell_type": "code",
      "source": [
        "traffic_light = input(\"Enter the traffic light color (Green, Yellow, or Red): \")\n",
        "\n",
        "if traffic_light.lower() == \"green\":\n",
        "  print(\"You can Go!\")\n",
        "elif traffic_light.lower() == \"yellow\":\n",
        "  print(\"Slow down!\")\n",
        "elif traffic_light.lower() == \"red\":\n",
        "  print(\"Stop!\")\n",
        "else:\n",
        "  print(\"Invalid traffic light color! Please enter Green, Yellow, or Red.\")"
      ],
      "metadata": {
        "colab": {
          "base_uri": "https://localhost:8080/"
        },
        "id": "KTGGmrCYKQCZ",
        "outputId": "fd0bcb4c-e70c-4b7e-a7ae-a162ffb72240"
      },
      "execution_count": null,
      "outputs": [
        {
          "output_type": "stream",
          "name": "stdout",
          "text": [
            "Enter the traffic light color (Green, Yellow, or Red): Green\n",
            "You can Go!\n"
          ]
        }
      ]
    },
    {
      "cell_type": "markdown",
      "source": [
        "### **Even or Odd**\n",
        "\n",
        "Take an integer from the user and check if it’s even or odd."
      ],
      "metadata": {
        "id": "sJu7MWhCMITx"
      }
    },
    {
      "cell_type": "code",
      "source": [
        "num = int(input(\"Enter a number: \"))\n",
        "\n",
        "if num % 2 == 0:\n",
        "  print(f\"{num} is even.\")\n",
        "else:\n",
        "  print(\"{num} is odd.\")"
      ],
      "metadata": {
        "colab": {
          "base_uri": "https://localhost:8080/"
        },
        "id": "4BGRuJlTMXAE",
        "outputId": "d27f6d9b-ecf7-4117-e18a-9b72172b4f8f"
      },
      "execution_count": null,
      "outputs": [
        {
          "output_type": "stream",
          "name": "stdout",
          "text": [
            "Enter a number: 12\n",
            "12 is even.\n"
          ]
        }
      ]
    },
    {
      "cell_type": "markdown",
      "source": [
        "### **Voting Eligiblity**\n",
        "\n",
        "Ask the user for their age and print whether they are eligible to vote (age ≥ 18)."
      ],
      "metadata": {
        "id": "r7-yWTqlQ2p9"
      }
    },
    {
      "cell_type": "code",
      "source": [
        "age = int(input(\"Enter your age: \"))\n",
        "\n",
        "if age >= 18:\n",
        "  print(\"You are eligible to vote!\")\n",
        "else:\n",
        "  print(\"you are not eligible to vote!\")"
      ],
      "metadata": {
        "colab": {
          "base_uri": "https://localhost:8080/"
        },
        "id": "PrJTleu4RAMi",
        "outputId": "292b8158-d1af-4144-c5e7-68edc2b22a39"
      },
      "execution_count": null,
      "outputs": [
        {
          "output_type": "stream",
          "name": "stdout",
          "text": [
            "Enter your age: 17\n",
            "you are not eligible to vote!\n"
          ]
        }
      ]
    },
    {
      "cell_type": "markdown",
      "source": [
        "### **Largest of Two Numbers**\n",
        "\n",
        "Take two numbers from the user and print which one is greater or if they are equal."
      ],
      "metadata": {
        "id": "5ihR2DIGXDoa"
      }
    },
    {
      "cell_type": "code",
      "source": [
        "num1 = int(input(\"Enter the 1st number: \"))\n",
        "num2 = int(input(\"Enter the 2nd number: \"))\n",
        "\n",
        "if num1 > num2:\n",
        "  print(f\"{num1}], is greater than {num2}.\")\n",
        "elif num1 == num2:\n",
        "  print(f\"both numbers are equal.\")\n",
        "else:\n",
        "  print(f\"{num2} is greater than {num1}.\")"
      ],
      "metadata": {
        "colab": {
          "base_uri": "https://localhost:8080/"
        },
        "id": "XsgfYYFSXZfg",
        "outputId": "ef611db3-d97e-4565-8afc-b64275ae0e33"
      },
      "execution_count": null,
      "outputs": [
        {
          "output_type": "stream",
          "name": "stdout",
          "text": [
            "Enter the 1st number: 3\n",
            "Enter the 2nd number: 3\n",
            "both numbers are equal.\n"
          ]
        }
      ]
    },
    {
      "cell_type": "markdown",
      "source": [
        "### **Number Sign Checker**\n",
        "\n",
        "Ask the user to enter a number. Print whether it's positive, negative, or zero."
      ],
      "metadata": {
        "id": "5GEfYFQoZFCO"
      }
    },
    {
      "cell_type": "code",
      "source": [
        "num = int(input(\"Enter a number: \"))\n",
        "\n",
        "if num > 0:\n",
        "  print(\"you entered a positive number.\")\n",
        "elif num < 0:\n",
        "  print(\"you entered a negative number.\")\n",
        "else:\n",
        "  print(\"you entered zero.\")"
      ],
      "metadata": {
        "colab": {
          "base_uri": "https://localhost:8080/"
        },
        "id": "_S6KzjKuZImO",
        "outputId": "c008bc59-022d-4e4f-a5bd-299f075d6161"
      },
      "execution_count": null,
      "outputs": [
        {
          "output_type": "stream",
          "name": "stdout",
          "text": [
            "Enter a number: -33\n",
            "you entered a negative number.\n"
          ]
        }
      ]
    },
    {
      "cell_type": "markdown",
      "source": [
        "### **Student Grade Calculator**\n",
        "\n",
        "Take a student's marks (0–100) and assign grades:\n",
        "\n",
        "- 90+: A\n",
        "\n",
        "- 80–89: B\n",
        "\n",
        "- 70–79: C\n",
        "\n",
        "- 60–69: D\n",
        "\n",
        "- <60: F"
      ],
      "metadata": {
        "id": "kw_ivkUOaOwV"
      }
    },
    {
      "cell_type": "code",
      "source": [
        "marks = int(input(\"Enter student's marks (0–100): \"))\n",
        "\n",
        "if marks > 90:\n",
        "  print(\"A Grade\")\n",
        "elif 80 <= marks <=90:\n",
        "  print(\"B Grade\")\n",
        "elif 70 <= marks < 80:\n",
        "  print(\"C Grade\")\n",
        "elif 60 <= marks < 70:\n",
        "  print(\"D Grade\")\n",
        "else:\n",
        "  print(\"Grade F\")"
      ],
      "metadata": {
        "colab": {
          "base_uri": "https://localhost:8080/"
        },
        "id": "jIA5N8sjaTC7",
        "outputId": "fe9952d9-61bc-4ebf-a52e-ff3c37ea2846"
      },
      "execution_count": null,
      "outputs": [
        {
          "output_type": "stream",
          "name": "stdout",
          "text": [
            "Enter student's marks (0–100): 93\n",
            "A Grade\n"
          ]
        }
      ]
    }
  ]
}