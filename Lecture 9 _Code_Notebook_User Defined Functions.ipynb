{
 "cells": [
  {
   "cell_type": "markdown",
   "id": "c30b826c",
   "metadata": {},
   "source": [
    "# **Lecture 9: User-Defined Functions**"
   ]
  },
  {
   "cell_type": "markdown",
   "id": "d74f248a",
   "metadata": {},
   "source": [
    "**Author Name :** Ahsan Ali Rajpoot  \n",
    "- **LinkedIn :** [linkedin.com/in/iamahsanalirajpoot](https://www.linkedin.com/in/iamahsanalirajpoot)  \n",
    "- **Facebook :** [facebook.com/iamahsanalirajpoot](https://www.facebook.com/iamahsanalirajpoot)  \n",
    "- **GitHub :** [github.com/iamahsanalirajpoot](https://github.com/iamahsanalirajpoot)  \n",
    "- **Kaggle :** [kaggle.com/ahsanalirajpoot](https://www.kaggle.com/ahsanalirajpoot)"
   ]
  },
  {
   "cell_type": "markdown",
   "id": "55d86c2a",
   "metadata": {},
   "source": [
    "## **Function**\n",
    "\n",
    "A function is a block of reusable code that performs a specific task. Instead of writing the same instructions repeatedly, we define a function first and call it whenever needed."
   ]
  },
  {
   "cell_type": "markdown",
   "id": "c0072479",
   "metadata": {},
   "source": [
    "## **Types of Functions**\n",
    "\n",
    "1. **Built-in Functions** → `print()`, `len()`, `sum()`\n",
    "2. **User-Defined Functions** → Created by developers for custom tasks"
   ]
  },
  {
   "cell_type": "markdown",
   "id": "dbf66764",
   "metadata": {},
   "source": [
    "### **Key Components of User-Defined Function**\n",
    "\n",
    "1. `def`: It tells Python you are defining a new function.\n",
    "2. `function_name`: A unique name for identifying the function.\n",
    "3. `parameters` **(optionals)** : Values passed to the function for processing.\n",
    "4. `:` **(colons)** : marks the end of function header.\n",
    "5. **Function Body** : Contains the logic (instructions) that function executes.\n",
    "6. **\"\"\"docstring\"\"\"** : Used to descibe what the function does.\n",
    "7. `return` **(optional)** : return a reasult to caller."
   ]
  },
  {
   "cell_type": "code",
   "execution_count": 1,
   "id": "6b5a361d",
   "metadata": {},
   "outputs": [
    {
     "name": "stdout",
     "output_type": "stream",
     "text": [
      "Number 1:  50\n",
      "Number 2:  21\n",
      "29\n"
     ]
    }
   ],
   "source": [
    "# creating a function named 'minus' that takes two numbers as parameters\n",
    "\n",
    "def minus(num1, num2):\n",
    "    \"\"\"this function takes two numbers, subtract them, and returns the sum.\"\"\"\n",
    "    print(\"Number 1: \", num1)\n",
    "    print(\"Number 2: \", num2)\n",
    "    subtraction = num1 - num2\n",
    "    return subtraction\n",
    "\n",
    "# calling the function \n",
    "print(minus(50, 21))"
   ]
  },
  {
   "cell_type": "markdown",
   "id": "03a1724f",
   "metadata": {},
   "source": [
    "**Parameters or Arguments:**\n",
    "\n",
    "***From a function's perspective:***\n",
    "\n",
    "A ***parameter*** is the variable listed inside the parentheses in the function definition.\n",
    "\n",
    "An ***argument*** is the value that are sent to the function when it is called."
   ]
  },
  {
   "cell_type": "markdown",
   "id": "c76ce350",
   "metadata": {},
   "source": [
    "**Function can be declared without parameter**"
   ]
  },
  {
   "cell_type": "code",
   "execution_count": null,
   "id": "adb3afc2",
   "metadata": {},
   "outputs": [
    {
     "name": "stdout",
     "output_type": "stream",
     "text": [
      "Welcome to AI lab!\n"
     ]
    }
   ],
   "source": [
    "# Define a function name \"Welcome\" to print a Welcome message\n",
    "def welcome():\n",
    "    print(\"Welcome to AI lab!\")\n",
    "\n",
    "# calling function\n",
    "welcome()"
   ]
  },
  {
   "cell_type": "markdown",
   "id": "a07643a3",
   "metadata": {},
   "source": [
    "### **Function Arguments**\n",
    "\n",
    "function arguments allow us to pass values into a function, making it more flexible and reusable. There are four types of arguments:\n",
    "\n",
    "1. **Default Arguments**\n",
    "2. **Keyword Arguments**\n",
    "3. **Positional Arguments**\n",
    "4. **Variable-Length Arguments**"
   ]
  },
  {
   "cell_type": "markdown",
   "id": "4c0306e2",
   "metadata": {},
   "source": [
    "#### **Default Arguments**\n",
    "\n",
    "These are parameters that have a predefined value in the function definition.\n",
    "If you don’t provide a value while calling the function, the default is used."
   ]
  },
  {
   "cell_type": "code",
   "execution_count": 3,
   "id": "eb325415",
   "metadata": {},
   "outputs": [
    {
     "name": "stdout",
     "output_type": "stream",
     "text": [
      "Hello Ahsan, Language: English\n",
      "Hello Ahsan, Language: Urdu\n"
     ]
    }
   ],
   "source": [
    "def greet(name, language=\"English\"):\n",
    "    print(f\"Hello {name}, Language: {language}\")                                        \n",
    "\n",
    "greet(\"Ahsan\")            # Uses default 'English'\n",
    "greet(\"Ahsan\", \"Urdu\")    # Overrides default"
   ]
  },
  {
   "cell_type": "markdown",
   "id": "98710f89",
   "metadata": {},
   "source": [
    "#### **Keyword Arguments**\n",
    "\n",
    "These are arguments that are passed to a function by explicitly specifying the parameter name and value. This allows you to skip some arguments or change their order."
   ]
  },
  {
   "cell_type": "code",
   "execution_count": 16,
   "id": "a423e552",
   "metadata": {},
   "outputs": [
    {
     "name": "stdout",
     "output_type": "stream",
     "text": [
      "Hey Ahsan, How are you?\n"
     ]
    }
   ],
   "source": [
    "def greet_2(name, message):\n",
    "    print(f\"Hey {name}, {message}\")\n",
    "\n",
    "greet_2(message=\"How are you?\", name=\"Ahsan\")"
   ]
  },
  {
   "cell_type": "markdown",
   "id": "41cc5e40",
   "metadata": {},
   "source": [
    "#### **Positional Arguments**\n",
    "\n",
    "These are arguments that are passed to a function in the order they are defined. The first argument corresponds to the first parameter, the second to the second parameter, and so on."
   ]
  },
  {
   "cell_type": "code",
   "execution_count": 17,
   "id": "49238959",
   "metadata": {},
   "outputs": [
    {
     "name": "stdout",
     "output_type": "stream",
     "text": [
      "Welcome Ahsan, How old are you?\n"
     ]
    }
   ],
   "source": [
    "def greet_3(name, message):\n",
    "    print(f\"Welcome {name}, {message}\")\n",
    "\n",
    "greet_3(\"Ahsan\", \"How old are you?\")"
   ]
  },
  {
   "cell_type": "markdown",
   "id": "f89d98b5",
   "metadata": {},
   "source": [
    "***using `return` statement***"
   ]
  },
  {
   "cell_type": "code",
   "execution_count": 29,
   "id": "bf68b373",
   "metadata": {},
   "outputs": [
    {
     "name": "stdout",
     "output_type": "stream",
     "text": [
      "Welcome Ahsan Rajpoot, what's going on..?\n"
     ]
    }
   ],
   "source": [
    "def greet_4(name, message):\n",
    "    return f\"Welcome {name}, {message}\"\n",
    "\n",
    "greet_4_out = greet_4(\"Ahsan Rajpoot\", \"what's going on..?\")\n",
    "print(greet_4_out)"
   ]
  },
  {
   "cell_type": "markdown",
   "id": "4abdcba6",
   "metadata": {},
   "source": [
    "#### **Variable-Length Arguments**\n",
    "\n",
    "Sometimes, you might need to pass a variable number of arguments to a function. Python provides two ways to handle this:"
   ]
  },
  {
   "cell_type": "markdown",
   "id": "ea2e0a4f",
   "metadata": {},
   "source": [
    "##### a) **`*args` (Arbitrary Positional Arguments)**\n",
    "\n",
    "This allows you to pass a variable number of positional arguments to a function. The arguments are received as a tuple."
   ]
  },
  {
   "cell_type": "code",
   "execution_count": 33,
   "id": "1adf8cbe",
   "metadata": {},
   "outputs": [
    {
     "name": "stdout",
     "output_type": "stream",
     "text": [
      "55\n"
     ]
    }
   ],
   "source": [
    "def add_all(*numbers):\n",
    "    \"\"\"This function calculates the sum of all given numbers.\"\"\"\n",
    "    total = 0\n",
    "    for num in numbers:\n",
    "        total += num\n",
    "    return total\n",
    "\n",
    "total_sum = add_all(1,2,3,4,5,6,7,8,9,10)\n",
    "print(total_sum)"
   ]
  },
  {
   "cell_type": "code",
   "execution_count": 2,
   "id": "646715c2",
   "metadata": {},
   "outputs": [
    {
     "name": "stdout",
     "output_type": "stream",
     "text": [
      "1 4\n"
     ]
    }
   ],
   "source": [
    "def numbers(*num):\n",
    "    print(num[0], num[1])\n",
    "\n",
    "numbers(1 ,4, 5)"
   ]
  },
  {
   "cell_type": "markdown",
   "id": "2184b77d",
   "metadata": {},
   "source": [
    "b) **`**kwargs` (Arbitrary Keyword Arguments)**\n",
    "\n",
    "This allows you to pass a variable number of keyword arguments to a function. The arguments are received as a dictionary."
   ]
  },
  {
   "cell_type": "code",
   "execution_count": null,
   "id": "53f3ec2e",
   "metadata": {},
   "outputs": [
    {
     "name": "stdout",
     "output_type": "stream",
     "text": [
      "name: Ahsan\n",
      "age: 18\n",
      "city: Balakot\n",
      "--------------------\n",
      "name: Maira\n",
      "occupation: AI Engineer\n"
     ]
    }
   ],
   "source": [
    "def display_info(**person_info):\n",
    "  \"\"\"This function displays information about a person.\"\"\"\n",
    "  for key, value in person_info.items():\n",
    "    print(f\"{key}: {value}\")\n",
    "\n",
    "display_info(name=\"Ahsan\", age=18, city=\"Balakot\")\n",
    "print(\"-\" * 20)\n",
    "display_info(name=\"Maira\", occupation=\"AI Engineer\")"
   ]
  },
  {
   "cell_type": "code",
   "execution_count": null,
   "id": "aeb0083d",
   "metadata": {},
   "outputs": [
    {
     "name": "stdout",
     "output_type": "stream",
     "text": [
      "name: Ahsan Rajpot\n",
      "section: CS\n",
      "roll_no: 48542\n",
      "marks: 89%\n"
     ]
    }
   ],
   "source": [
    "def display_info(**student_info):\n",
    "    \"\"\"This function displays information about a student.\"\"\"\n",
    "    for key, value in student_info.items():\n",
    "        print(f\"{key}: {value}\")\n",
    "\n",
    "display_info(name=\"Ahsan Rajpot\", section=\"CS\", roll_no=48542, marks=\"89%\")"
   ]
  },
  {
   "cell_type": "markdown",
   "id": "78b79159",
   "metadata": {},
   "source": [
    "### **Exersice**"
   ]
  },
  {
   "cell_type": "markdown",
   "id": "cae8f116",
   "metadata": {},
   "source": [
    "**Create a function called `rectangle_area` that takes length and width as arguments and returns the area of a rectangle.**"
   ]
  },
  {
   "cell_type": "code",
   "execution_count": 25,
   "id": "c07555d1",
   "metadata": {},
   "outputs": [
    {
     "name": "stdout",
     "output_type": "stream",
     "text": [
      "The area of Rectangle is : 20\n"
     ]
    }
   ],
   "source": [
    "def rectangle_area(length, width):\n",
    "    \"\"\"This function calculates the area of a rectangle.\"\"\"\n",
    "    return length * width\n",
    "\n",
    "length = int(input(\"Enter the length of rectangle: \"))\n",
    "width = int(input(\"Enter the width of rectangle: \"))\n",
    "\n",
    "print(f\"The area of Rectangle is : {rectangle_area(length, width)}\")"
   ]
  },
  {
   "cell_type": "markdown",
   "id": "371d1f11",
   "metadata": {},
   "source": [
    "**Create a function called `is_even` that takes a number as an argument and returns True if the number is even, otherwise returns False.**"
   ]
  },
  {
   "cell_type": "code",
   "execution_count": null,
   "id": "1843ce44",
   "metadata": {},
   "outputs": [
    {
     "name": "stdout",
     "output_type": "stream",
     "text": [
      "True\n",
      "False\n"
     ]
    }
   ],
   "source": [
    "def is_even(num):\n",
    "    \n",
    "    return num % 2 == 0 # return Ture if num % 2 = 0 otherwise False\n",
    "\n",
    "print(is_even(8))\n",
    "print(is_even(9))"
   ]
  },
  {
   "cell_type": "markdown",
   "id": "88e9b161",
   "metadata": {},
   "source": [
    "**Function to check if a number is odd**"
   ]
  },
  {
   "cell_type": "code",
   "execution_count": null,
   "id": "8d4edeec",
   "metadata": {},
   "outputs": [
    {
     "name": "stdout",
     "output_type": "stream",
     "text": [
      "True\n",
      "False\n"
     ]
    }
   ],
   "source": [
    "def is_odd(num):\n",
    "    \n",
    "    return num % 2 != 0 # return Ture if num % 2 isn't equal to 0 otherwise False\n",
    "\n",
    "print(is_odd(3))\n",
    "print(is_odd(12))"
   ]
  },
  {
   "cell_type": "markdown",
   "id": "a31d7f79",
   "metadata": {},
   "source": [
    "**Create a function `reverse_string` that takes a string as an argument and returns the string reversed.**"
   ]
  },
  {
   "cell_type": "code",
   "execution_count": 31,
   "id": "11d2b5e1",
   "metadata": {},
   "outputs": [
    {
     "name": "stdout",
     "output_type": "stream",
     "text": [
      "nohtyp\n"
     ]
    }
   ],
   "source": [
    "def reverse_string(s):\n",
    "    \"\"\"This function takes a string and returns it reversed.\"\"\"\n",
    "    return s[::-1]\n",
    "\n",
    "print(reverse_string(\"python\"))"
   ]
  },
  {
   "cell_type": "markdown",
   "id": "0d9a46c6",
   "metadata": {},
   "source": [
    "**Create a function `build_profile` that collects information about a user.**"
   ]
  },
  {
   "cell_type": "code",
   "execution_count": 8,
   "id": "85b94c5c",
   "metadata": {},
   "outputs": [
    {
     "name": "stdout",
     "output_type": "stream",
     "text": [
      "{'name': 'Ahsan', 'age': 18, 'interest': 'AI'}\n"
     ]
    }
   ],
   "source": [
    "def build_profile(**user_info):\n",
    "    \"\"\"Builds a user profile and returns it as a dictionary.\"\"\"\n",
    "    return user_info\n",
    "\n",
    "profile = build_profile(name=\"Ahsan\", age=18, interest=\"AI\")\n",
    "print(profile)"
   ]
  },
  {
   "cell_type": "markdown",
   "id": "f054a6c1",
   "metadata": {},
   "source": [
    "**Write a recursive function `factorial` to compute the factorial of a number.**"
   ]
  },
  {
   "cell_type": "code",
   "execution_count": 9,
   "id": "eb0ada36",
   "metadata": {},
   "outputs": [
    {
     "name": "stdout",
     "output_type": "stream",
     "text": [
      "1\n"
     ]
    }
   ],
   "source": [
    "def factorial(num):\n",
    "    \"\"\"Returns the factorial of a non-negative integer using recursion.\"\"\"\n",
    "    return 1 if num == 0 else num * factorial(num - 1)\n",
    "\n",
    "print(factorial(1))"
   ]
  },
  {
   "cell_type": "markdown",
   "id": "577549ad",
   "metadata": {},
   "source": [
    "**loop-based factorial function**"
   ]
  },
  {
   "cell_type": "code",
   "execution_count": null,
   "id": "4b06cc94",
   "metadata": {},
   "outputs": [
    {
     "name": "stdout",
     "output_type": "stream",
     "text": [
      "120\n"
     ]
    }
   ],
   "source": [
    "def factorial(num):\n",
    "    factorial = 1\n",
    "    if num == 0:\n",
    "        return 1\n",
    "    else:\n",
    "        while num > 1:\n",
    "            factorial *= num\n",
    "            num -= 1\n",
    "    return factorial\n",
    "\n",
    "print(factorial(5))"
   ]
  }
 ],
 "metadata": {
  "kernelspec": {
   "display_name": "learning",
   "language": "python",
   "name": "python3"
  },
  "language_info": {
   "codemirror_mode": {
    "name": "ipython",
    "version": 3
   },
   "file_extension": ".py",
   "mimetype": "text/x-python",
   "name": "python",
   "nbconvert_exporter": "python",
   "pygments_lexer": "ipython3",
   "version": "3.11.13"
  }
 },
 "nbformat": 4,
 "nbformat_minor": 5
}
