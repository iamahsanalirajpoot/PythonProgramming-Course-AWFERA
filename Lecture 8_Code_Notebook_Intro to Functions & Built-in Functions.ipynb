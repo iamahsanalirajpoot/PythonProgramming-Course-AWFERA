{
 "cells": [
  {
   "cell_type": "markdown",
   "id": "8499bf74",
   "metadata": {},
   "source": [
    "# **Lecture 8: Intro to Functions & Built-in Functions in Python**"
   ]
  },
  {
   "cell_type": "markdown",
   "id": "b2547c03",
   "metadata": {},
   "source": [
    "**Author Name :** Ahsan Ali Rajpoot  \n",
    "- **LinkedIn :** [linkedin.com/in/iamahsanalirajpoot](https://www.linkedin.com/in/iamahsanalirajpoot)  \n",
    "- **Facebook :** [facebook.com/iamahsanalirajpoot](https://www.facebook.com/iamahsanalirajpoot)  \n",
    "- **GitHub :** [github.com/iamahsanalirajpoot](https://github.com/iamahsanalirajpoot)  \n",
    "- **Kaggle :** [kaggle.com/ahsanalirajpoot](https://www.kaggle.com/ahsanalirajpoot)"
   ]
  },
  {
   "cell_type": "markdown",
   "id": "6dd5bd86",
   "metadata": {},
   "source": [
    "## **Function**\n",
    "\n",
    "A function is reusable code that performs a specific task when called.\n"
   ]
  },
  {
   "cell_type": "markdown",
   "id": "312e28ae",
   "metadata": {},
   "source": [
    "### **Benefits of Using Functions:**\n",
    "\n",
    "- **Reusability:** Write once, use multiple times.\n",
    "- **Modularity:** Organize code into logical sections.\n",
    "- **Readability:** Cleaner and easier to understand.\n",
    "- **Error Reduction:** Fewer mistakes with repeated tasks.\n"
   ]
  },
  {
   "cell_type": "markdown",
   "id": "83a82b11",
   "metadata": {},
   "source": [
    "### **Types of Functions in Python:**  \n",
    "\n",
    "- **Built-in Functions:** Provided by Python (e.g., `print()`, `input()`, `sorted()`, `max()`)  \n",
    "- **User-defined Functions:** Created by the programmer for specific tasks\n"
   ]
  },
  {
   "cell_type": "markdown",
   "id": "6c0fabd4",
   "metadata": {},
   "source": [
    "#### **Python Built-in Functions:**\n",
    "\n",
    "Python provides many built-in functions to perform common tasks. Here are a few of them:"
   ]
  },
  {
   "cell_type": "markdown",
   "id": "215685e3",
   "metadata": {},
   "source": [
    "##### 1. `len()`\n",
    "\n",
    "Returns the length of an object (string, list, etc.)"
   ]
  },
  {
   "cell_type": "code",
   "execution_count": 25,
   "id": "7f999cc1",
   "metadata": {},
   "outputs": [
    {
     "name": "stdout",
     "output_type": "stream",
     "text": [
      "lenght of name is: 13\n"
     ]
    }
   ],
   "source": [
    "name = \"Ahsan Rajpoot\"\n",
    "print(\"lenght of name is:\", len(name))"
   ]
  },
  {
   "cell_type": "markdown",
   "id": "5a3c7348",
   "metadata": {},
   "source": [
    "##### 2. `max()`\n",
    "\n",
    "Return the largest value in an iterable (list, tuple etc)"
   ]
  },
  {
   "cell_type": "code",
   "execution_count": 26,
   "id": "83fd1e72",
   "metadata": {},
   "outputs": [
    {
     "name": "stdout",
     "output_type": "stream",
     "text": [
      "97\n"
     ]
    }
   ],
   "source": [
    "num = [1, -9, 44, 97, 33, -44]\n",
    "print(max(num))"
   ]
  },
  {
   "cell_type": "markdown",
   "id": "df8e87a5",
   "metadata": {},
   "source": [
    "##### 3. `sorted()`\n",
    "\n",
    "Sorts an iterable in ascending order."
   ]
  },
  {
   "cell_type": "code",
   "execution_count": 27,
   "id": "e78e4ee4",
   "metadata": {},
   "outputs": [
    {
     "data": {
      "text/plain": [
       "[1, 2, 4, 5, 7, 9, 10, 13]"
      ]
     },
     "execution_count": 27,
     "metadata": {},
     "output_type": "execute_result"
    }
   ],
   "source": [
    "num = [1, 5, 2, 7, 9, 4, 13, 10]\n",
    "num = sorted(num)\n",
    "\n",
    "num"
   ]
  },
  {
   "cell_type": "markdown",
   "id": "1ef5f96e",
   "metadata": {},
   "source": [
    "4. ##### `range()`\n",
    "\n",
    "Generates a sequence of numbers."
   ]
  },
  {
   "cell_type": "code",
   "execution_count": 28,
   "id": "1387f050",
   "metadata": {},
   "outputs": [
    {
     "name": "stdout",
     "output_type": "stream",
     "text": [
      "0 1 2 3 4 5 6 7 8 9 "
     ]
    }
   ],
   "source": [
    "for i in range(10):\n",
    "    print(i, end=\" \")"
   ]
  },
  {
   "cell_type": "markdown",
   "id": "363bf31e",
   "metadata": {},
   "source": [
    "##### 5. `id()`\n",
    "\n",
    "Returns the memory address of an object."
   ]
  },
  {
   "cell_type": "code",
   "execution_count": 29,
   "id": "a2f936bf",
   "metadata": {},
   "outputs": [
    {
     "name": "stdout",
     "output_type": "stream",
     "text": [
      "2082530180336\n"
     ]
    }
   ],
   "source": [
    "a = \"Ahsan\"\n",
    "print(id(a))"
   ]
  },
  {
   "cell_type": "markdown",
   "id": "443f4193",
   "metadata": {},
   "source": [
    "##### 6. `eval()`\n",
    "\n",
    "Evaluates a string as a Python expression."
   ]
  },
  {
   "cell_type": "code",
   "execution_count": 30,
   "id": "c64c4da2",
   "metadata": {},
   "outputs": [
    {
     "name": "stdout",
     "output_type": "stream",
     "text": [
      "21\n"
     ]
    }
   ],
   "source": [
    "expression = \"9 + 4 * 3\"\n",
    "result = eval(expression)\n",
    "print(result) "
   ]
  },
  {
   "cell_type": "markdown",
   "id": "2753aabc",
   "metadata": {},
   "source": [
    "#### **User-defined Functions:**\n",
    "\n",
    "**User-Defined Functions Example:**"
   ]
  },
  {
   "cell_type": "code",
   "execution_count": 31,
   "id": "2daba67f",
   "metadata": {},
   "outputs": [
    {
     "name": "stdout",
     "output_type": "stream",
     "text": [
      "Hello, Ahsan!\n"
     ]
    }
   ],
   "source": [
    "def greet(name):\n",
    "    print(f\"Hello, {name}!\")\n",
    "\n",
    "# calling function\n",
    "greet(\"Ahsan\")"
   ]
  }
 ],
 "metadata": {
  "kernelspec": {
   "display_name": "awfera",
   "language": "python",
   "name": "python3"
  },
  "language_info": {
   "codemirror_mode": {
    "name": "ipython",
    "version": 3
   },
   "file_extension": ".py",
   "mimetype": "text/x-python",
   "name": "python",
   "nbconvert_exporter": "python",
   "pygments_lexer": "ipython3",
   "version": "3.10.16"
  }
 },
 "nbformat": 4,
 "nbformat_minor": 5
}
